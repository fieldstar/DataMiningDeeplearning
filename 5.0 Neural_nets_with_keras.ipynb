{
 "cells": [
  {
   "cell_type": "markdown",
   "metadata": {},
   "source": [
    "# 基于Keras的神经网络及其在财务舞弊、图像识别中的应用"
   ]
  },
  {
   "cell_type": "markdown",
   "metadata": {},
   "source": [
    "## 配置安装"
   ]
  },
  {
   "cell_type": "markdown",
   "metadata": {},
   "source": [
    "First, let's import a few common modules, ensure MatplotLib plots figures inline and prepare a function to save the figures. We also check that Python 3.5 or later is installed (although Python 2.x may work, it is deprecated so we strongly recommend you use Python 3 instead), as well as Scikit-Learn ≥0.20 and TensorFlow ≥2.0."
   ]
  },
  {
   "cell_type": "code",
   "execution_count": 1,
   "metadata": {},
   "outputs": [],
   "source": [
    "# Python ≥3.5 is required\n",
    "import sys\n",
    "assert sys.version_info >= (3, 5)\n",
    "from sklearn.linear_model import Perceptron\n",
    "import pandas as pd\n",
    "# Scikit-Learn ≥0.20 is required\n",
    "import sklearn\n",
    "assert sklearn.__version__ >= \"0.20\"\n",
    "\n",
    "from tensorflow import keras\n",
    "try:\n",
    "    # %tensorflow_version only exists in Colab.\n",
    "    %tensorflow_version 2.x\n",
    "except Exception:\n",
    "    pass\n",
    "\n",
    "# TensorFlow ≥2.0 is required\n",
    "import tensorflow as tf\n",
    "assert tf.__version__ >= \"2.0\"\n",
    "\n",
    "# Common imports\n",
    "import numpy as np\n",
    "import os\n",
    "\n",
    "# to make this notebook's output stable across runs\n",
    "np.random.seed(42)\n",
    "\n",
    "# To plot pretty figures\n",
    "%matplotlib inline\n",
    "import matplotlib as mpl\n",
    "import matplotlib.pyplot as plt\n",
    "mpl.rc('axes', labelsize=14)\n",
    "mpl.rc('xtick', labelsize=12)\n",
    "mpl.rc('ytick', labelsize=12)\n",
    "\n",
    "# Where to save the figures\n",
    "PROJECT_ROOT_DIR = \".\"\n",
    "IMAGES_PATH = os.path.join(PROJECT_ROOT_DIR, \"images\")\n",
    "os.makedirs(IMAGES_PATH, exist_ok=True)\n",
    "\n",
    "def save_fig(fig_id, tight_layout=True, fig_extension=\"png\", resolution=300):\n",
    "    path = os.path.join(IMAGES_PATH, fig_id + \".\" + fig_extension)\n",
    "    print(\"保存图片\", fig_id)\n",
    "    if tight_layout:\n",
    "        plt.tight_layout()\n",
    "    plt.savefig(path, format=fig_extension, dpi=resolution)\n",
    "\n",
    "# Ignore useless warnings (see SciPy issue #5998)\n",
    "import warnings\n",
    "warnings.filterwarnings(action=\"ignore\", message=\"^internal gelsd\")"
   ]
  },
  {
   "cell_type": "markdown",
   "metadata": {},
   "source": [
    "# 感知机算法-Perceptrons"
   ]
  },
  {
   "cell_type": "markdown",
   "metadata": {},
   "source": [
    "**Note**: we set `max_iter` and `tol` explicitly to avoid warnings about the fact that their default value will change in future versions of Scikit-Learn."
   ]
  },
  {
   "cell_type": "code",
   "execution_count": 2,
   "metadata": {},
   "outputs": [
    {
     "data": {
      "text/html": [
       "<div>\n",
       "<style scoped>\n",
       "    .dataframe tbody tr th:only-of-type {\n",
       "        vertical-align: middle;\n",
       "    }\n",
       "\n",
       "    .dataframe tbody tr th {\n",
       "        vertical-align: top;\n",
       "    }\n",
       "\n",
       "    .dataframe thead th {\n",
       "        text-align: right;\n",
       "    }\n",
       "</style>\n",
       "<table border=\"1\" class=\"dataframe\">\n",
       "  <thead>\n",
       "    <tr style=\"text-align: right;\">\n",
       "      <th></th>\n",
       "      <th>流动比率</th>\n",
       "      <th>财务杠杆</th>\n",
       "    </tr>\n",
       "  </thead>\n",
       "  <tbody>\n",
       "    <tr>\n",
       "      <th>count</th>\n",
       "      <td>10641.000000</td>\n",
       "      <td>10641.000000</td>\n",
       "    </tr>\n",
       "    <tr>\n",
       "      <th>mean</th>\n",
       "      <td>2.636698</td>\n",
       "      <td>1.550320</td>\n",
       "    </tr>\n",
       "    <tr>\n",
       "      <th>std</th>\n",
       "      <td>3.966642</td>\n",
       "      <td>2.439470</td>\n",
       "    </tr>\n",
       "    <tr>\n",
       "      <th>min</th>\n",
       "      <td>0.000000</td>\n",
       "      <td>-6.477321</td>\n",
       "    </tr>\n",
       "    <tr>\n",
       "      <th>25%</th>\n",
       "      <td>1.151682</td>\n",
       "      <td>0.980168</td>\n",
       "    </tr>\n",
       "    <tr>\n",
       "      <th>50%</th>\n",
       "      <td>1.686547</td>\n",
       "      <td>1.072271</td>\n",
       "    </tr>\n",
       "    <tr>\n",
       "      <th>75%</th>\n",
       "      <td>2.777394</td>\n",
       "      <td>1.381521</td>\n",
       "    </tr>\n",
       "    <tr>\n",
       "      <th>max</th>\n",
       "      <td>190.869175</td>\n",
       "      <td>79.086559</td>\n",
       "    </tr>\n",
       "  </tbody>\n",
       "</table>\n",
       "</div>"
      ],
      "text/plain": [
       "               流动比率          财务杠杆\n",
       "count  10641.000000  10641.000000\n",
       "mean       2.636698      1.550320\n",
       "std        3.966642      2.439470\n",
       "min        0.000000     -6.477321\n",
       "25%        1.151682      0.980168\n",
       "50%        1.686547      1.072271\n",
       "75%        2.777394      1.381521\n",
       "max      190.869175     79.086559"
      ]
     },
     "execution_count": 2,
     "metadata": {},
     "output_type": "execute_result"
    }
   ],
   "source": [
    "fraud_detection_samples=pd.read_csv(\"data/fraud_detection_samples.csv\",dtype={\"股票代码\":str})\n",
    "fraud_detection_samples=fraud_detection_samples.iloc[:,:-3]\n",
    "\n",
    "fraud_detection_samples=fraud_detection_samples.fillna(0)\n",
    "fraud_detection_samples[['流动比率','财务杠杆']].describe()"
   ]
  },
  {
   "cell_type": "code",
   "execution_count": 3,
   "metadata": {},
   "outputs": [
    {
     "data": {
      "text/plain": [
       "Perceptron(random_state=42)"
      ]
     },
     "execution_count": 3,
     "metadata": {},
     "output_type": "execute_result"
    }
   ],
   "source": [
    "X = np.array(fraud_detection_samples[['流动比率','财务杠杆']])\n",
    "y = np.array(fraud_detection_samples[\"是否违规\"])\n",
    "per_clf = Perceptron(max_iter=1000, tol=1e-3, random_state=42)\n",
    "per_clf.fit(X, y)"
   ]
  },
  {
   "cell_type": "code",
   "execution_count": 4,
   "metadata": {},
   "outputs": [
    {
     "data": {
      "text/plain": [
       "array([[-5.959342,  4.113779]])"
      ]
     },
     "execution_count": 4,
     "metadata": {},
     "output_type": "execute_result"
    }
   ],
   "source": [
    "per_clf.coef_"
   ]
  },
  {
   "cell_type": "code",
   "execution_count": 5,
   "metadata": {},
   "outputs": [
    {
     "data": {
      "text/plain": [
       "0.6229677661873884"
      ]
     },
     "execution_count": 5,
     "metadata": {},
     "output_type": "execute_result"
    }
   ],
   "source": [
    "per_clf.score(X,y)"
   ]
  },
  {
   "cell_type": "code",
   "execution_count": 6,
   "metadata": {},
   "outputs": [],
   "source": [
    "a = -per_clf.coef_[0][0] / per_clf.coef_[0][1]\n",
    "b = -per_clf.intercept_ / per_clf.coef_[0][1]\n",
    "\n",
    "axes = [0, 10, -2,8]\n",
    "\n",
    "x0, x1 = np.meshgrid(\n",
    "        np.linspace(axes[0], axes[1], 500).reshape(-1, 1),\n",
    "        np.linspace(axes[2], axes[3], 200).reshape(-1, 1),\n",
    "    )\n",
    "X_new = np.c_[x0.ravel(), x1.ravel()]"
   ]
  },
  {
   "cell_type": "code",
   "execution_count": 7,
   "metadata": {},
   "outputs": [
    {
     "name": "stdout",
     "output_type": "stream",
     "text": [
      "保存图片 perceptron_Fraud_plot\n"
     ]
    },
    {
     "data": {
      "image/png": "[encoded data removed]",
      "text/plain": [
       "<Figure size 720x288 with 1 Axes>"
      ]
     },
     "metadata": {
      "needs_background": "light"
     },
     "output_type": "display_data"
    }
   ],
   "source": [
    "y_predict = per_clf.predict(X_new)\n",
    "zz = y_predict.reshape(x0.shape)\n",
    "\n",
    "plt.figure(figsize=(10, 4))\n",
    "plt.plot(X[y==0, 0], X[y==0, 1], \"g*\", label=\"不违规\")\n",
    "plt.plot(X[y==1, 0], X[y==1, 1], \"ro\", label=\"违规\",alpha=0.3)\n",
    "\n",
    "plt.plot([axes[0], axes[1]], [a * axes[0] + b, a * axes[1] + b], \"k-\", linewidth=2) #画感知机分类线\n",
    "from matplotlib.colors import ListedColormap\n",
    "custom_cmap = ListedColormap(['#9898ff', '#fafab0'])\n",
    "\n",
    "plt.contourf(x0, x1, zz, cmap=custom_cmap)\n",
    "plt.xlabel(\"流动比率\", fontsize=14)\n",
    "plt.ylabel(\"财务杠杆\", fontsize=14)\n",
    "plt.legend(loc=\"lower right\", fontsize=14)\n",
    "plt.axis(axes)\n",
    "\n",
    "save_fig(\"perceptron_Fraud_plot\")\n",
    "plt.show()"
   ]
  },
  {
   "cell_type": "markdown",
   "metadata": {},
   "source": [
    "# 激活函数"
   ]
  },
  {
   "cell_type": "code",
   "execution_count": 8,
   "metadata": {},
   "outputs": [],
   "source": [
    "def sigmoid(z):\n",
    "    return 1 / (1 + np.exp(-z))\n",
    "\n",
    "def relu(z):\n",
    "    return np.maximum(0, z)\n",
    "\n",
    "def derivative(f, z, eps=0.000001):\n",
    "    return (f(z + eps) - f(z - eps))/(2 * eps)"
   ]
  },
  {
   "cell_type": "code",
   "execution_count": 9,
   "metadata": {},
   "outputs": [
    {
     "name": "stdout",
     "output_type": "stream",
     "text": [
      "保存图片 activation_functions_plot\n"
     ]
    },
    {
     "data": {
      "image/png": "[encoded data removed]",
      "text/plain": [
       "<Figure size 792x288 with 2 Axes>"
      ]
     },
     "metadata": {
      "needs_background": "light"
     },
     "output_type": "display_data"
    }
   ],
   "source": [
    "z = np.linspace(-5, 5, 200)\n",
    "\n",
    "plt.figure(figsize=(11,4))\n",
    "\n",
    "plt.subplot(121)\n",
    "plt.plot(z, np.sign(z), \"r-\", linewidth=1, label=\"阶跃函数\")\n",
    "plt.plot(z, sigmoid(z), \"g--\", linewidth=2, label=\"Sigmoid\")\n",
    "plt.plot(z, np.tanh(z), \"b-\", linewidth=2, label=\"Tanh\")\n",
    "plt.plot(z, relu(z), \"m-.\", linewidth=2, label=\"ReLU\")\n",
    "plt.grid(True)\n",
    "plt.legend(loc=\"center right\", fontsize=14)\n",
    "plt.title(\"激活函数\", fontsize=14)\n",
    "plt.axis([-5, 5, -1.2, 1.2])\n",
    "\n",
    "plt.subplot(122)\n",
    "plt.plot(z, derivative(np.sign, z), \"r-\", linewidth=1, label=\"阶跃函数\")\n",
    "plt.plot(0, 0, \"ro\", markersize=5)\n",
    "plt.plot(0, 0, \"rx\", markersize=10)\n",
    "plt.plot(z, derivative(sigmoid, z), \"g--\", linewidth=2, label=\"Sigmoid\")\n",
    "plt.plot(z, derivative(np.tanh, z), \"b-\", linewidth=2, label=\"Tanh\")\n",
    "plt.plot(z, derivative(relu, z), \"m-.\", linewidth=2, label=\"ReLU\")\n",
    "plt.grid(True)\n",
    "#plt.legend(loc=\"center right\", fontsize=14)\n",
    "plt.title(\"导数\", fontsize=14)\n",
    "plt.axis([-5, 5, -0.2, 1.2])\n",
    "\n",
    "save_fig(\"activation_functions_plot\")\n",
    "plt.show()"
   ]
  },
  {
   "cell_type": "markdown",
   "metadata": {},
   "source": [
    "# 基于Keras用神经网络进行财务舞弊识别"
   ]
  },
  {
   "cell_type": "markdown",
   "metadata": {},
   "source": [
    "Let's load, split and scale the Financial Fraud detection dataset."
   ]
  },
  {
   "cell_type": "code",
   "execution_count": 10,
   "metadata": {},
   "outputs": [],
   "source": [
    "from sklearn.model_selection import train_test_split\n",
    "from sklearn.preprocessing import StandardScaler\n",
    "fraud_detection_samples=pd.read_csv(\"data/fraud_detection_samples.csv\",dtype={\"股票代码\":str})\n",
    "fraud_detection_samples=fraud_detection_samples.iloc[:,:-2]\n",
    "fraud_detection_samples=fraud_detection_samples.fillna(0)"
   ]
  },
  {
   "cell_type": "code",
   "execution_count": 11,
   "metadata": {},
   "outputs": [
    {
     "data": {
      "text/html": [
       "<div>\n",
       "<style scoped>\n",
       "    .dataframe tbody tr th:only-of-type {\n",
       "        vertical-align: middle;\n",
       "    }\n",
       "\n",
       "    .dataframe tbody tr th {\n",
       "        vertical-align: top;\n",
       "    }\n",
       "\n",
       "    .dataframe thead th {\n",
       "        text-align: right;\n",
       "    }\n",
       "</style>\n",
       "<table border=\"1\" class=\"dataframe\">\n",
       "  <thead>\n",
       "    <tr style=\"text-align: right;\">\n",
       "      <th></th>\n",
       "      <th>0</th>\n",
       "    </tr>\n",
       "  </thead>\n",
       "  <tbody>\n",
       "    <tr>\n",
       "      <th>股票代码</th>\n",
       "      <td>601678</td>\n",
       "    </tr>\n",
       "    <tr>\n",
       "      <th>截止日期</th>\n",
       "      <td>2010/12/31</td>\n",
       "    </tr>\n",
       "    <tr>\n",
       "      <th>行业代码</th>\n",
       "      <td>S90</td>\n",
       "    </tr>\n",
       "    <tr>\n",
       "      <th>财务杠杆</th>\n",
       "      <td>1.11611</td>\n",
       "    </tr>\n",
       "    <tr>\n",
       "      <th>经营杠杆</th>\n",
       "      <td>1.4499</td>\n",
       "    </tr>\n",
       "    <tr>\n",
       "      <th>综合杠杆</th>\n",
       "      <td>1.61824</td>\n",
       "    </tr>\n",
       "    <tr>\n",
       "      <th>应收账款与收入比</th>\n",
       "      <td>0.024363</td>\n",
       "    </tr>\n",
       "    <tr>\n",
       "      <th>应收账款周转率A</th>\n",
       "      <td>41.0462</td>\n",
       "    </tr>\n",
       "    <tr>\n",
       "      <th>存货周转率A</th>\n",
       "      <td>19.9069</td>\n",
       "    </tr>\n",
       "    <tr>\n",
       "      <th>营运资金（资本）周转率A</th>\n",
       "      <td>8.82957</td>\n",
       "    </tr>\n",
       "    <tr>\n",
       "      <th>流动资产周转率A</th>\n",
       "      <td>2.73772</td>\n",
       "    </tr>\n",
       "    <tr>\n",
       "      <th>股东权益周转率A</th>\n",
       "      <td>1.1199</td>\n",
       "    </tr>\n",
       "    <tr>\n",
       "      <th>营业收入现金含量</th>\n",
       "      <td>0.957005</td>\n",
       "    </tr>\n",
       "    <tr>\n",
       "      <th>营业利润现金净含量</th>\n",
       "      <td>0.493094</td>\n",
       "    </tr>\n",
       "    <tr>\n",
       "      <th>营运指数</th>\n",
       "      <td>0.406278</td>\n",
       "    </tr>\n",
       "    <tr>\n",
       "      <th>资本支出与折旧摊销比</th>\n",
       "      <td>0.799017</td>\n",
       "    </tr>\n",
       "    <tr>\n",
       "      <th>流动比率</th>\n",
       "      <td>1.44941</td>\n",
       "    </tr>\n",
       "    <tr>\n",
       "      <th>速动比率</th>\n",
       "      <td>1.29367</td>\n",
       "    </tr>\n",
       "    <tr>\n",
       "      <th>利息保障倍数A</th>\n",
       "      <td>9.61274</td>\n",
       "    </tr>\n",
       "    <tr>\n",
       "      <th>营运资金与借款比</th>\n",
       "      <td>1.22677</td>\n",
       "    </tr>\n",
       "    <tr>\n",
       "      <th>资产负债率</th>\n",
       "      <td>0.229091</td>\n",
       "    </tr>\n",
       "    <tr>\n",
       "      <th>长期借款与总资产比</th>\n",
       "      <td>0.010869</td>\n",
       "    </tr>\n",
       "    <tr>\n",
       "      <th>固定资产增长率A</th>\n",
       "      <td>0.005895</td>\n",
       "    </tr>\n",
       "    <tr>\n",
       "      <th>净资产收益率增长率A</th>\n",
       "      <td>0.920225</td>\n",
       "    </tr>\n",
       "    <tr>\n",
       "      <th>净利润增长率A</th>\n",
       "      <td>0.920345</td>\n",
       "    </tr>\n",
       "    <tr>\n",
       "      <th>营业利润增长率A</th>\n",
       "      <td>0.898036</td>\n",
       "    </tr>\n",
       "    <tr>\n",
       "      <th>营业收入增长率A</th>\n",
       "      <td>0.236378</td>\n",
       "    </tr>\n",
       "    <tr>\n",
       "      <th>营业总成本增长率</th>\n",
       "      <td>0</td>\n",
       "    </tr>\n",
       "    <tr>\n",
       "      <th>管理费用增长率</th>\n",
       "      <td>0</td>\n",
       "    </tr>\n",
       "    <tr>\n",
       "      <th>经营活动产生的净流量增长率A</th>\n",
       "      <td>-1.04937</td>\n",
       "    </tr>\n",
       "    <tr>\n",
       "      <th>资产报酬率A</th>\n",
       "      <td>0.124823</td>\n",
       "    </tr>\n",
       "    <tr>\n",
       "      <th>总资产净利润率（ROA）A</th>\n",
       "      <td>0.088793</td>\n",
       "    </tr>\n",
       "    <tr>\n",
       "      <th>流动资产净利润率A</th>\n",
       "      <td>0.28157</td>\n",
       "    </tr>\n",
       "    <tr>\n",
       "      <th>净资产收益率A</th>\n",
       "      <td>0.11518</td>\n",
       "    </tr>\n",
       "    <tr>\n",
       "      <th>营业成本率</th>\n",
       "      <td>0.781314</td>\n",
       "    </tr>\n",
       "    <tr>\n",
       "      <th>管理费用率</th>\n",
       "      <td>0.055142</td>\n",
       "    </tr>\n",
       "    <tr>\n",
       "      <th>现金与利润总额比</th>\n",
       "      <td>0.491482</td>\n",
       "    </tr>\n",
       "    <tr>\n",
       "      <th>流动资产比率</th>\n",
       "      <td>0.31535</td>\n",
       "    </tr>\n",
       "    <tr>\n",
       "      <th>现金资产比率</th>\n",
       "      <td>0.075127</td>\n",
       "    </tr>\n",
       "    <tr>\n",
       "      <th>应收类资产比率</th>\n",
       "      <td>0.175736</td>\n",
       "    </tr>\n",
       "    <tr>\n",
       "      <th>营运资金比率</th>\n",
       "      <td>0.097778</td>\n",
       "    </tr>\n",
       "    <tr>\n",
       "      <th>十大股东持股比例</th>\n",
       "      <td>49.16</td>\n",
       "    </tr>\n",
       "    <tr>\n",
       "      <th>审计意见代码</th>\n",
       "      <td>1</td>\n",
       "    </tr>\n",
       "    <tr>\n",
       "      <th>违规类型代码</th>\n",
       "      <td>1</td>\n",
       "    </tr>\n",
       "    <tr>\n",
       "      <th>是否违规</th>\n",
       "      <td>1</td>\n",
       "    </tr>\n",
       "    <tr>\n",
       "      <th>审计意见类型</th>\n",
       "      <td>标准无保留意见</td>\n",
       "    </tr>\n",
       "  </tbody>\n",
       "</table>\n",
       "</div>"
      ],
      "text/plain": [
       "                         0\n",
       "股票代码                601678\n",
       "截止日期            2010/12/31\n",
       "行业代码                   S90\n",
       "财务杠杆               1.11611\n",
       "经营杠杆                1.4499\n",
       "综合杠杆               1.61824\n",
       "应收账款与收入比          0.024363\n",
       "应收账款周转率A           41.0462\n",
       "存货周转率A             19.9069\n",
       "营运资金（资本）周转率A       8.82957\n",
       "流动资产周转率A           2.73772\n",
       "股东权益周转率A            1.1199\n",
       "营业收入现金含量          0.957005\n",
       "营业利润现金净含量         0.493094\n",
       "营运指数              0.406278\n",
       "资本支出与折旧摊销比        0.799017\n",
       "流动比率               1.44941\n",
       "速动比率               1.29367\n",
       "利息保障倍数A            9.61274\n",
       "营运资金与借款比           1.22677\n",
       "资产负债率             0.229091\n",
       "长期借款与总资产比         0.010869\n",
       "固定资产增长率A          0.005895\n",
       "净资产收益率增长率A        0.920225\n",
       "净利润增长率A           0.920345\n",
       "营业利润增长率A          0.898036\n",
       "营业收入增长率A          0.236378\n",
       "营业总成本增长率                 0\n",
       "管理费用增长率                  0\n",
       "经营活动产生的净流量增长率A    -1.04937\n",
       "资产报酬率A            0.124823\n",
       "总资产净利润率（ROA）A     0.088793\n",
       "流动资产净利润率A          0.28157\n",
       "净资产收益率A            0.11518\n",
       "营业成本率             0.781314\n",
       "管理费用率             0.055142\n",
       "现金与利润总额比          0.491482\n",
       "流动资产比率             0.31535\n",
       "现金资产比率            0.075127\n",
       "应收类资产比率           0.175736\n",
       "营运资金比率            0.097778\n",
       "十大股东持股比例             49.16\n",
       "审计意见代码                   1\n",
       "违规类型代码                   1\n",
       "是否违规                     1\n",
       "审计意见类型             标准无保留意见"
      ]
     },
     "execution_count": 11,
     "metadata": {},
     "output_type": "execute_result"
    }
   ],
   "source": [
    "fraud_detection_samples.head(1).T"
   ]
  },
  {
   "cell_type": "code",
   "execution_count": 12,
   "metadata": {},
   "outputs": [],
   "source": [
    "X = np.array(fraud_detection_samples.iloc[:,3:-3])\n",
    "y = np.array(fraud_detection_samples[\"是否违规\"])"
   ]
  },
  {
   "cell_type": "code",
   "execution_count": 13,
   "metadata": {},
   "outputs": [
    {
     "name": "stdout",
     "output_type": "stream",
     "text": [
      "chi_square_value, p_value: 271338.84350692213 0.0\n",
      "kmo value 0.5170820646234289\n",
      "ev [3.79080241e+00 3.56483164e+00 2.00022217e+00 1.88680572e+00\n",
      " 1.79629568e+00 1.68660142e+00 1.47429196e+00 1.34322881e+00\n",
      " 1.22329366e+00 1.09580811e+00 1.08482820e+00 1.06697411e+00\n",
      " 1.01625838e+00 1.00745336e+00 1.00557410e+00 1.00311717e+00\n",
      " 1.00060022e+00 9.97565947e-01 9.96556477e-01 9.91875420e-01\n",
      " 9.69915278e-01 9.45617016e-01 9.29347170e-01 9.19679900e-01\n",
      " 9.00358816e-01 8.75378263e-01 7.91493255e-01 6.49523542e-01\n",
      " 5.86169218e-01 5.38869992e-01 4.91850592e-01 4.21329111e-01\n",
      " 3.56309363e-01 2.93965042e-01 1.86377434e-01 8.10542607e-02\n",
      " 1.49224778e-02 1.06780838e-02 3.16297880e-03 1.01325460e-03]\n"
     ]
    },
    {
     "data": {
      "image/png": "[encoded data removed]",
      "text/plain": [
       "<Figure size 432x288 with 1 Axes>"
      ]
     },
     "metadata": {
      "needs_background": "light"
     },
     "output_type": "display_data"
    },
    {
     "data": {
      "text/plain": [
       "FactorAnalyzer(n_factors=10, rotation='varimax', rotation_kwargs={})"
      ]
     },
     "execution_count": 13,
     "metadata": {},
     "output_type": "execute_result"
    }
   ],
   "source": [
    "# 使用因子分析法进行降维\n",
    "from factor_analyzer import FactorAnalyzer\n",
    "from factor_analyzer.factor_analyzer import calculate_bartlett_sphericity\n",
    "\n",
    "chi_square_value,p_value=calculate_bartlett_sphericity(X)\n",
    "print(\"chi_square_value, p_value:\",chi_square_value, p_value)\n",
    "\n",
    "from factor_analyzer.factor_analyzer import calculate_kmo\n",
    "kmo_all,kmo_model=calculate_kmo(X)\n",
    "print(\"kmo value\",kmo_model)\n",
    "# Create factor analysis object and perform factor analysis\n",
    "fa = FactorAnalyzer(40, rotation=None)\n",
    "fa.fit(X)\n",
    "# Check Eigenvalues\n",
    "ev, v = fa.get_eigenvalues()\n",
    "print(\"ev\",ev)\n",
    "\n",
    "plt.scatter(range(1,X.shape[1]+1),ev)\n",
    "plt.plot(range(1,X.shape[1]+1),ev)\n",
    "plt.title('Scree Plot')\n",
    "plt.xlabel('Factors')\n",
    "plt.ylabel('Eigenvalue')\n",
    "plt.grid()\n",
    "plt.show()\n",
    "\n",
    "fa = FactorAnalyzer(10, rotation=\"varimax\")\n",
    "fa.fit(X)\n",
    "#X=fa.transform(X) "
   ]
  },
  {
   "cell_type": "code",
   "execution_count": 14,
   "metadata": {},
   "outputs": [
    {
     "data": {
      "text/plain": [
       "(10641,)"
      ]
     },
     "execution_count": 14,
     "metadata": {},
     "output_type": "execute_result"
    }
   ],
   "source": [
    "y.shape"
   ]
  },
  {
   "cell_type": "code",
   "execution_count": 15,
   "metadata": {},
   "outputs": [],
   "source": [
    "X_train_full, X_test, y_train_full, y_test = train_test_split(X,y, random_state=44)\n",
    "X_train, X_valid, y_train, y_valid = train_test_split(X_train_full, y_train_full, random_state=44)\n",
    "\n",
    "scaler = StandardScaler()\n",
    "\n",
    "X_train = scaler.fit_transform(X_train)\n",
    "X_valid = scaler.transform(X_valid)\n",
    "X_test = scaler.transform(X_test)  "
   ]
  },
  {
   "cell_type": "code",
   "execution_count": 16,
   "metadata": {},
   "outputs": [
    {
     "data": {
      "text/plain": [
       "array([[1.293344e+00, 1.148923e+00, 1.485953e+00, ..., 5.455220e-01,\n",
       "        4.441000e+01, 1.000000e+00],\n",
       "       [1.007881e+00, 1.144692e+00, 1.153713e+00, ..., 4.565110e-01,\n",
       "        6.939000e+01, 1.000000e+00],\n",
       "       [9.003940e-01, 2.055421e+00, 1.850688e+00, ..., 1.436600e-01,\n",
       "        2.681000e+01, 1.000000e+00],\n",
       "       ...,\n",
       "       [9.174700e-01, 1.374792e+00, 1.261331e+00, ..., 5.534870e-01,\n",
       "        7.151000e+01, 1.000000e+00],\n",
       "       [1.352634e+00, 1.258855e+00, 1.702770e+00, ..., 6.768900e-02,\n",
       "        2.532000e+01, 1.000000e+00],\n",
       "       [2.092215e+00, 2.962390e+00, 6.197955e+00, ..., 4.025600e-02,\n",
       "        4.270000e+01, 3.000000e+00]])"
      ]
     },
     "execution_count": 16,
     "metadata": {},
     "output_type": "execute_result"
    }
   ],
   "source": [
    "X_train_full"
   ]
  },
  {
   "cell_type": "markdown",
   "metadata": {},
   "source": [
    "import pandas as pd\n",
    "pd.DataFrame(X_train).describe()"
   ]
  },
  {
   "cell_type": "code",
   "execution_count": 17,
   "metadata": {},
   "outputs": [
    {
     "data": {
      "text/plain": [
       "array([0, 1], dtype=int64)"
      ]
     },
     "execution_count": 17,
     "metadata": {},
     "output_type": "execute_result"
    }
   ],
   "source": [
    "np.unique(y_train)"
   ]
  },
  {
   "cell_type": "code",
   "execution_count": 18,
   "metadata": {},
   "outputs": [],
   "source": [
    "model = keras.models.Sequential([\n",
    "    keras.layers.Flatten(input_shape=X_train.shape[1:]),\n",
    "    keras.layers.Dense(100, activation=\"sigmoid\"),\n",
    "    keras.layers.Dense(20, activation=\"sigmoid\"),   \n",
    "    keras.layers.Dense(1, activation=\"sigmoid\")\n",
    "])\n",
    "\n",
    "model.compile(loss=\"binary_crossentropy\",optimizer=keras.optimizers.Adam(learning_rate=1e-3),metrics=['accuracy'])"
   ]
  },
  {
   "cell_type": "code",
   "execution_count": 19,
   "metadata": {},
   "outputs": [],
   "source": [
    "keras.backend.clear_session()\n",
    "np.random.seed(44)\n",
    "tf.random.set_seed(44)"
   ]
  },
  {
   "cell_type": "code",
   "execution_count": 20,
   "metadata": {},
   "outputs": [
    {
     "name": "stdout",
     "output_type": "stream",
     "text": [
      "Model: \"sequential\"\n",
      "_________________________________________________________________\n",
      " Layer (type)                Output Shape              Param #   \n",
      "=================================================================\n",
      " flatten (Flatten)           (None, 40)                0         \n",
      "                                                                 \n",
      " dense (Dense)               (None, 100)               4100      \n",
      "                                                                 \n",
      " dense_1 (Dense)             (None, 20)                2020      \n",
      "                                                                 \n",
      " dense_2 (Dense)             (None, 1)                 21        \n",
      "                                                                 \n",
      "=================================================================\n",
      "Total params: 6,141\n",
      "Trainable params: 6,141\n",
      "Non-trainable params: 0\n",
      "_________________________________________________________________\n"
     ]
    }
   ],
   "source": [
    "model.summary()"
   ]
  },
  {
   "cell_type": "code",
   "execution_count": 21,
   "metadata": {},
   "outputs": [
    {
     "data": {
      "text/plain": [
       "array([0, 1], dtype=int64)"
      ]
     },
     "execution_count": 21,
     "metadata": {},
     "output_type": "execute_result"
    }
   ],
   "source": [
    "np.unique(y_train)"
   ]
  },
  {
   "cell_type": "code",
   "execution_count": 22,
   "metadata": {},
   "outputs": [
    {
     "data": {
      "text/plain": [
       "(5985, 40)"
      ]
     },
     "execution_count": 22,
     "metadata": {},
     "output_type": "execute_result"
    }
   ],
   "source": [
    "X_train.shape"
   ]
  },
  {
   "cell_type": "code",
   "execution_count": 23,
   "metadata": {},
   "outputs": [],
   "source": [
    "root_logdir = os.path.join(os.curdir, \"my_logs\")"
   ]
  },
  {
   "cell_type": "code",
   "execution_count": 24,
   "metadata": {},
   "outputs": [
    {
     "data": {
      "text/plain": [
       "'.\\\\my_logs\\\\run_2021_12_06-09_14_31'"
      ]
     },
     "execution_count": 24,
     "metadata": {},
     "output_type": "execute_result"
    }
   ],
   "source": [
    "def get_run_logdir():\n",
    "    import time\n",
    "    run_id = time.strftime(\"run_%Y_%m_%d-%H_%M_%S\")\n",
    "    return os.path.join(root_logdir, run_id)\n",
    "\n",
    "run_logdir = get_run_logdir()\n",
    "run_logdir"
   ]
  },
  {
   "cell_type": "code",
   "execution_count": 25,
   "metadata": {},
   "outputs": [
    {
     "name": "stdout",
     "output_type": "stream",
     "text": [
      "Epoch 1/300\n",
      "WARNING:tensorflow:AutoGraph could not transform <function Model.make_train_function.<locals>.train_function at 0x000002206D8DD5E8> and will run it as-is.\n",
      "Please report this to the TensorFlow team. When filing the bug, set the verbosity to 10 (on Linux, `export AUTOGRAPH_VERBOSITY=10`) and attach the full output.\n",
      "Cause: 'arguments' object has no attribute 'posonlyargs'\n",
      "To silence this warning, decorate the function with @tf.autograph.experimental.do_not_convert\n",
      "WARNING: AutoGraph could not transform <function Model.make_train_function.<locals>.train_function at 0x000002206D8DD5E8> and will run it as-is.\n",
      "Please report this to the TensorFlow team. When filing the bug, set the verbosity to 10 (on Linux, `export AUTOGRAPH_VERBOSITY=10`) and attach the full output.\n",
      "Cause: 'arguments' object has no attribute 'posonlyargs'\n",
      "To silence this warning, decorate the function with @tf.autograph.experimental.do_not_convert\n",
      "158/188 [========================>.....] - ETA: 0s - loss: 0.6593 - accuracy: 0.6108WARNING:tensorflow:AutoGraph could not transform <function Model.make_test_function.<locals>.test_function at 0x000002206F141C18> and will run it as-is.\n",
      "Please report this to the TensorFlow team. When filing the bug, set the verbosity to 10 (on Linux, `export AUTOGRAPH_VERBOSITY=10`) and attach the full output.\n",
      "Cause: 'arguments' object has no attribute 'posonlyargs'\n",
      "To silence this warning, decorate the function with @tf.autograph.experimental.do_not_convert\n",
      "WARNING: AutoGraph could not transform <function Model.make_test_function.<locals>.test_function at 0x000002206F141C18> and will run it as-is.\n",
      "Please report this to the TensorFlow team. When filing the bug, set the verbosity to 10 (on Linux, `export AUTOGRAPH_VERBOSITY=10`) and attach the full output.\n",
      "Cause: 'arguments' object has no attribute 'posonlyargs'\n",
      "To silence this warning, decorate the function with @tf.autograph.experimental.do_not_convert\n",
      "188/188 [==============================] - 1s 3ms/step - loss: 0.6511 - accuracy: 0.6211 - val_loss: 0.6113 - val_accuracy: 0.6712\n",
      "Epoch 2/300\n",
      "188/188 [==============================] - 1s 3ms/step - loss: 0.5928 - accuracy: 0.7024 - val_loss: 0.5884 - val_accuracy: 0.6962\n",
      "Epoch 3/300\n",
      "188/188 [==============================] - 0s 2ms/step - loss: 0.5798 - accuracy: 0.7126 - val_loss: 0.5805 - val_accuracy: 0.6982\n",
      "Epoch 4/300\n",
      "188/188 [==============================] - 0s 2ms/step - loss: 0.5735 - accuracy: 0.7135 - val_loss: 0.5778 - val_accuracy: 0.7018\n",
      "Epoch 5/300\n",
      "188/188 [==============================] - 0s 2ms/step - loss: 0.5702 - accuracy: 0.7133 - val_loss: 0.5732 - val_accuracy: 0.7048\n",
      "Epoch 6/300\n",
      "188/188 [==============================] - 0s 2ms/step - loss: 0.5680 - accuracy: 0.7143 - val_loss: 0.5721 - val_accuracy: 0.7038\n",
      "Epoch 7/300\n",
      "188/188 [==============================] - 0s 2ms/step - loss: 0.5660 - accuracy: 0.7191 - val_loss: 0.5708 - val_accuracy: 0.7043\n",
      "Epoch 8/300\n",
      "188/188 [==============================] - 1s 5ms/step - loss: 0.5643 - accuracy: 0.7155 - val_loss: 0.5696 - val_accuracy: 0.7073\n",
      "Epoch 9/300\n",
      "188/188 [==============================] - 1s 3ms/step - loss: 0.5633 - accuracy: 0.7188 - val_loss: 0.5750 - val_accuracy: 0.7053\n",
      "Epoch 10/300\n",
      "188/188 [==============================] - 0s 2ms/step - loss: 0.5621 - accuracy: 0.7180 - val_loss: 0.5725 - val_accuracy: 0.7043\n",
      "Epoch 11/300\n",
      "188/188 [==============================] - 0s 2ms/step - loss: 0.5614 - accuracy: 0.7186 - val_loss: 0.5695 - val_accuracy: 0.7068\n",
      "Epoch 12/300\n",
      "188/188 [==============================] - 1s 4ms/step - loss: 0.5598 - accuracy: 0.7188 - val_loss: 0.5724 - val_accuracy: 0.7038\n",
      "Epoch 13/300\n",
      "188/188 [==============================] - 0s 2ms/step - loss: 0.5582 - accuracy: 0.7228 - val_loss: 0.5670 - val_accuracy: 0.7083\n",
      "Epoch 14/300\n",
      "188/188 [==============================] - 0s 2ms/step - loss: 0.5577 - accuracy: 0.7180 - val_loss: 0.5648 - val_accuracy: 0.7093\n",
      "Epoch 15/300\n",
      "188/188 [==============================] - 1s 3ms/step - loss: 0.5547 - accuracy: 0.7193 - val_loss: 0.5632 - val_accuracy: 0.7123\n",
      "Epoch 16/300\n",
      "188/188 [==============================] - 1s 3ms/step - loss: 0.5552 - accuracy: 0.7272 - val_loss: 0.5631 - val_accuracy: 0.7108\n",
      "Epoch 17/300\n",
      "188/188 [==============================] - 1s 3ms/step - loss: 0.5519 - accuracy: 0.7246 - val_loss: 0.5627 - val_accuracy: 0.7103\n",
      "Epoch 18/300\n",
      "188/188 [==============================] - 0s 3ms/step - loss: 0.5500 - accuracy: 0.7216 - val_loss: 0.5607 - val_accuracy: 0.7158\n",
      "Epoch 19/300\n",
      "188/188 [==============================] - 1s 3ms/step - loss: 0.5497 - accuracy: 0.7236 - val_loss: 0.5613 - val_accuracy: 0.7133\n",
      "Epoch 20/300\n",
      "188/188 [==============================] - 1s 4ms/step - loss: 0.5472 - accuracy: 0.7261 - val_loss: 0.5595 - val_accuracy: 0.7153\n",
      "Epoch 21/300\n",
      "188/188 [==============================] - 1s 4ms/step - loss: 0.5447 - accuracy: 0.7297 - val_loss: 0.5580 - val_accuracy: 0.7173\n",
      "Epoch 22/300\n",
      "188/188 [==============================] - 1s 3ms/step - loss: 0.5433 - accuracy: 0.7277 - val_loss: 0.5545 - val_accuracy: 0.7138\n",
      "Epoch 23/300\n",
      "188/188 [==============================] - 1s 3ms/step - loss: 0.5412 - accuracy: 0.7305 - val_loss: 0.5519 - val_accuracy: 0.7173\n",
      "Epoch 24/300\n",
      "188/188 [==============================] - 1s 3ms/step - loss: 0.5406 - accuracy: 0.7290 - val_loss: 0.5523 - val_accuracy: 0.7158\n",
      "Epoch 25/300\n",
      "188/188 [==============================] - 1s 3ms/step - loss: 0.5378 - accuracy: 0.7343 - val_loss: 0.5507 - val_accuracy: 0.7168\n",
      "Epoch 26/300\n",
      "188/188 [==============================] - 1s 3ms/step - loss: 0.5362 - accuracy: 0.7325 - val_loss: 0.5465 - val_accuracy: 0.7258\n",
      "Epoch 27/300\n",
      "188/188 [==============================] - 1s 3ms/step - loss: 0.5328 - accuracy: 0.7333 - val_loss: 0.5442 - val_accuracy: 0.7223\n",
      "Epoch 28/300\n",
      "188/188 [==============================] - 1s 3ms/step - loss: 0.5299 - accuracy: 0.7365 - val_loss: 0.5435 - val_accuracy: 0.7248\n",
      "Epoch 29/300\n",
      "188/188 [==============================] - 1s 3ms/step - loss: 0.5280 - accuracy: 0.7358 - val_loss: 0.5405 - val_accuracy: 0.7263\n",
      "Epoch 30/300\n",
      "188/188 [==============================] - 1s 3ms/step - loss: 0.5245 - accuracy: 0.7390 - val_loss: 0.5472 - val_accuracy: 0.7343\n",
      "Epoch 31/300\n",
      "188/188 [==============================] - 1s 3ms/step - loss: 0.5236 - accuracy: 0.7387 - val_loss: 0.5362 - val_accuracy: 0.7298\n",
      "Epoch 32/300\n",
      "188/188 [==============================] - 1s 4ms/step - loss: 0.5196 - accuracy: 0.7373 - val_loss: 0.5341 - val_accuracy: 0.7298\n",
      "Epoch 33/300\n",
      "188/188 [==============================] - 1s 3ms/step - loss: 0.5192 - accuracy: 0.7388 - val_loss: 0.5317 - val_accuracy: 0.7308\n",
      "Epoch 34/300\n",
      "188/188 [==============================] - 1s 4ms/step - loss: 0.5142 - accuracy: 0.7424 - val_loss: 0.5308 - val_accuracy: 0.7338\n",
      "Epoch 35/300\n",
      "188/188 [==============================] - 1s 5ms/step - loss: 0.5148 - accuracy: 0.7422 - val_loss: 0.5288 - val_accuracy: 0.7358\n",
      "Epoch 36/300\n",
      "188/188 [==============================] - 1s 3ms/step - loss: 0.5114 - accuracy: 0.7434 - val_loss: 0.5278 - val_accuracy: 0.7288\n",
      "Epoch 37/300\n",
      "188/188 [==============================] - 1s 3ms/step - loss: 0.5062 - accuracy: 0.7509 - val_loss: 0.5249 - val_accuracy: 0.7353\n",
      "Epoch 38/300\n",
      "188/188 [==============================] - 0s 2ms/step - loss: 0.5065 - accuracy: 0.7480 - val_loss: 0.5255 - val_accuracy: 0.7348\n",
      "Epoch 39/300\n",
      "188/188 [==============================] - 0s 2ms/step - loss: 0.5042 - accuracy: 0.7525 - val_loss: 0.5328 - val_accuracy: 0.7409\n",
      "Epoch 40/300\n",
      "188/188 [==============================] - 0s 2ms/step - loss: 0.5025 - accuracy: 0.7515 - val_loss: 0.5209 - val_accuracy: 0.7368\n",
      "Epoch 41/300\n",
      "188/188 [==============================] - 0s 2ms/step - loss: 0.5005 - accuracy: 0.7554 - val_loss: 0.5218 - val_accuracy: 0.7303\n",
      "Epoch 42/300\n",
      "188/188 [==============================] - 0s 2ms/step - loss: 0.4961 - accuracy: 0.7542 - val_loss: 0.5155 - val_accuracy: 0.7439\n",
      "Epoch 43/300\n",
      "188/188 [==============================] - 0s 2ms/step - loss: 0.4950 - accuracy: 0.7557 - val_loss: 0.5186 - val_accuracy: 0.7348\n",
      "Epoch 44/300\n",
      "188/188 [==============================] - 0s 2ms/step - loss: 0.4922 - accuracy: 0.7591 - val_loss: 0.5167 - val_accuracy: 0.7368\n",
      "Epoch 45/300\n",
      "188/188 [==============================] - 0s 2ms/step - loss: 0.4897 - accuracy: 0.7567 - val_loss: 0.5129 - val_accuracy: 0.7439\n",
      "Epoch 46/300\n",
      "188/188 [==============================] - 0s 2ms/step - loss: 0.4892 - accuracy: 0.7574 - val_loss: 0.5120 - val_accuracy: 0.7398\n",
      "Epoch 47/300\n",
      "188/188 [==============================] - 0s 2ms/step - loss: 0.4856 - accuracy: 0.7626 - val_loss: 0.5122 - val_accuracy: 0.7398\n",
      "Epoch 48/300\n",
      "188/188 [==============================] - 0s 2ms/step - loss: 0.4858 - accuracy: 0.7611 - val_loss: 0.5219 - val_accuracy: 0.7398\n",
      "Epoch 49/300\n",
      "188/188 [==============================] - 0s 2ms/step - loss: 0.4816 - accuracy: 0.7634 - val_loss: 0.5077 - val_accuracy: 0.7509\n",
      "Epoch 50/300\n",
      "188/188 [==============================] - 0s 2ms/step - loss: 0.4781 - accuracy: 0.7657 - val_loss: 0.5057 - val_accuracy: 0.7524\n",
      "Epoch 51/300\n",
      "188/188 [==============================] - 0s 2ms/step - loss: 0.4774 - accuracy: 0.7659 - val_loss: 0.5077 - val_accuracy: 0.7444\n",
      "Epoch 52/300\n",
      "188/188 [==============================] - 0s 2ms/step - loss: 0.4763 - accuracy: 0.7693 - val_loss: 0.5107 - val_accuracy: 0.7519\n",
      "Epoch 53/300\n",
      "188/188 [==============================] - 0s 2ms/step - loss: 0.4737 - accuracy: 0.7669 - val_loss: 0.5167 - val_accuracy: 0.7469\n",
      "Epoch 54/300\n",
      "188/188 [==============================] - 0s 2ms/step - loss: 0.4756 - accuracy: 0.7701 - val_loss: 0.5028 - val_accuracy: 0.7524\n",
      "Epoch 55/300\n",
      "188/188 [==============================] - 0s 2ms/step - loss: 0.4712 - accuracy: 0.7686 - val_loss: 0.5112 - val_accuracy: 0.7479\n",
      "Epoch 56/300\n",
      "188/188 [==============================] - 0s 2ms/step - loss: 0.4699 - accuracy: 0.7731 - val_loss: 0.5006 - val_accuracy: 0.7514\n",
      "Epoch 57/300\n",
      "188/188 [==============================] - 0s 1ms/step - loss: 0.4673 - accuracy: 0.7753 - val_loss: 0.5124 - val_accuracy: 0.7378\n",
      "Epoch 58/300\n",
      "188/188 [==============================] - 0s 2ms/step - loss: 0.4660 - accuracy: 0.7756 - val_loss: 0.5009 - val_accuracy: 0.7579\n",
      "Epoch 59/300\n",
      "188/188 [==============================] - 0s 2ms/step - loss: 0.4641 - accuracy: 0.7716 - val_loss: 0.5074 - val_accuracy: 0.7554\n",
      "Epoch 60/300\n",
      "188/188 [==============================] - 0s 2ms/step - loss: 0.4645 - accuracy: 0.7744 - val_loss: 0.5007 - val_accuracy: 0.7514\n",
      "Epoch 61/300\n",
      "188/188 [==============================] - 0s 2ms/step - loss: 0.4619 - accuracy: 0.7764 - val_loss: 0.5007 - val_accuracy: 0.7459\n",
      "Epoch 62/300\n",
      "188/188 [==============================] - 0s 2ms/step - loss: 0.4575 - accuracy: 0.7788 - val_loss: 0.5022 - val_accuracy: 0.7524\n",
      "Epoch 63/300\n",
      "188/188 [==============================] - 0s 2ms/step - loss: 0.4598 - accuracy: 0.7793 - val_loss: 0.4986 - val_accuracy: 0.7509\n",
      "Epoch 64/300\n",
      "188/188 [==============================] - 0s 2ms/step - loss: 0.4549 - accuracy: 0.7820 - val_loss: 0.4950 - val_accuracy: 0.7534\n",
      "Epoch 65/300\n",
      "188/188 [==============================] - 0s 2ms/step - loss: 0.4572 - accuracy: 0.7749 - val_loss: 0.5056 - val_accuracy: 0.7393\n",
      "Epoch 66/300\n",
      "188/188 [==============================] - 0s 2ms/step - loss: 0.4546 - accuracy: 0.7838 - val_loss: 0.4900 - val_accuracy: 0.7634\n",
      "Epoch 67/300\n",
      "188/188 [==============================] - 0s 2ms/step - loss: 0.4519 - accuracy: 0.7838 - val_loss: 0.4943 - val_accuracy: 0.7574\n",
      "Epoch 68/300\n",
      "188/188 [==============================] - 0s 1ms/step - loss: 0.4494 - accuracy: 0.7846 - val_loss: 0.4874 - val_accuracy: 0.7604\n",
      "Epoch 69/300\n",
      "188/188 [==============================] - 0s 1ms/step - loss: 0.4477 - accuracy: 0.7843 - val_loss: 0.5156 - val_accuracy: 0.7424\n",
      "Epoch 70/300\n",
      "188/188 [==============================] - 0s 2ms/step - loss: 0.4472 - accuracy: 0.7866 - val_loss: 0.4981 - val_accuracy: 0.7539\n",
      "Epoch 71/300\n",
      "188/188 [==============================] - 0s 1ms/step - loss: 0.4449 - accuracy: 0.7810 - val_loss: 0.4928 - val_accuracy: 0.7669\n",
      "Epoch 72/300\n",
      "188/188 [==============================] - 0s 2ms/step - loss: 0.4432 - accuracy: 0.7913 - val_loss: 0.4863 - val_accuracy: 0.7664\n",
      "Epoch 73/300\n",
      "188/188 [==============================] - 0s 2ms/step - loss: 0.4418 - accuracy: 0.7890 - val_loss: 0.5129 - val_accuracy: 0.7333\n",
      "Epoch 74/300\n",
      "188/188 [==============================] - 0s 2ms/step - loss: 0.4434 - accuracy: 0.7900 - val_loss: 0.4844 - val_accuracy: 0.7599\n",
      "Epoch 75/300\n",
      "188/188 [==============================] - 0s 2ms/step - loss: 0.4400 - accuracy: 0.7896 - val_loss: 0.4879 - val_accuracy: 0.7584\n",
      "Epoch 76/300\n",
      "188/188 [==============================] - 0s 2ms/step - loss: 0.4363 - accuracy: 0.7935 - val_loss: 0.4932 - val_accuracy: 0.7604\n",
      "Epoch 77/300\n",
      "188/188 [==============================] - 0s 2ms/step - loss: 0.4372 - accuracy: 0.7916 - val_loss: 0.4897 - val_accuracy: 0.7599\n",
      "Epoch 78/300\n",
      "188/188 [==============================] - ETA: 0s - loss: 0.4345 - accuracy: 0.79 - 0s 2ms/step - loss: 0.4348 - accuracy: 0.7963 - val_loss: 0.4840 - val_accuracy: 0.7724\n",
      "Epoch 79/300\n",
      "188/188 [==============================] - 0s 2ms/step - loss: 0.4341 - accuracy: 0.7970 - val_loss: 0.4875 - val_accuracy: 0.7559\n",
      "Epoch 80/300\n",
      "188/188 [==============================] - 0s 2ms/step - loss: 0.4319 - accuracy: 0.7940 - val_loss: 0.4814 - val_accuracy: 0.7714\n",
      "Epoch 81/300\n",
      "188/188 [==============================] - 0s 2ms/step - loss: 0.4292 - accuracy: 0.7987 - val_loss: 0.4804 - val_accuracy: 0.7815\n",
      "Epoch 82/300\n",
      "188/188 [==============================] - 0s 2ms/step - loss: 0.4281 - accuracy: 0.8017 - val_loss: 0.4910 - val_accuracy: 0.7564\n",
      "Epoch 83/300\n",
      "188/188 [==============================] - 0s 2ms/step - loss: 0.4254 - accuracy: 0.8008 - val_loss: 0.4892 - val_accuracy: 0.7574\n",
      "Epoch 84/300\n",
      "188/188 [==============================] - 0s 2ms/step - loss: 0.4311 - accuracy: 0.7942 - val_loss: 0.4757 - val_accuracy: 0.7699\n",
      "Epoch 85/300\n",
      "188/188 [==============================] - 0s 2ms/step - loss: 0.4229 - accuracy: 0.8050 - val_loss: 0.4805 - val_accuracy: 0.7604\n",
      "Epoch 86/300\n",
      "188/188 [==============================] - 0s 2ms/step - loss: 0.4248 - accuracy: 0.7983 - val_loss: 0.4786 - val_accuracy: 0.7619\n",
      "Epoch 87/300\n",
      "188/188 [==============================] - 0s 2ms/step - loss: 0.4214 - accuracy: 0.8032 - val_loss: 0.4754 - val_accuracy: 0.7689\n",
      "Epoch 88/300\n",
      "188/188 [==============================] - 0s 2ms/step - loss: 0.4225 - accuracy: 0.8047 - val_loss: 0.4764 - val_accuracy: 0.7719\n",
      "Epoch 89/300\n",
      "188/188 [==============================] - 0s 1ms/step - loss: 0.4178 - accuracy: 0.7995 - val_loss: 0.4767 - val_accuracy: 0.7744\n",
      "Epoch 90/300\n",
      "188/188 [==============================] - 0s 2ms/step - loss: 0.4169 - accuracy: 0.8069 - val_loss: 0.4877 - val_accuracy: 0.7579\n",
      "Epoch 91/300\n",
      "188/188 [==============================] - 0s 2ms/step - loss: 0.4178 - accuracy: 0.8070 - val_loss: 0.4707 - val_accuracy: 0.7754\n",
      "Epoch 92/300\n",
      "188/188 [==============================] - 0s 1ms/step - loss: 0.4163 - accuracy: 0.8084 - val_loss: 0.4742 - val_accuracy: 0.7744\n",
      "Epoch 93/300\n",
      "188/188 [==============================] - 0s 2ms/step - loss: 0.4133 - accuracy: 0.8080 - val_loss: 0.4699 - val_accuracy: 0.7789\n",
      "Epoch 94/300\n",
      "188/188 [==============================] - 0s 1ms/step - loss: 0.4095 - accuracy: 0.8094 - val_loss: 0.4894 - val_accuracy: 0.7549\n",
      "Epoch 95/300\n",
      "188/188 [==============================] - 0s 2ms/step - loss: 0.4101 - accuracy: 0.8085 - val_loss: 0.4797 - val_accuracy: 0.7774\n",
      "Epoch 96/300\n",
      "188/188 [==============================] - 0s 2ms/step - loss: 0.4130 - accuracy: 0.8042 - val_loss: 0.4726 - val_accuracy: 0.7659\n",
      "Epoch 97/300\n",
      "188/188 [==============================] - 0s 2ms/step - loss: 0.4077 - accuracy: 0.8154 - val_loss: 0.4739 - val_accuracy: 0.7704\n",
      "Epoch 98/300\n",
      "188/188 [==============================] - 0s 1ms/step - loss: 0.4046 - accuracy: 0.8112 - val_loss: 0.4667 - val_accuracy: 0.7855\n",
      "Epoch 99/300\n",
      "188/188 [==============================] - 0s 2ms/step - loss: 0.4032 - accuracy: 0.8124 - val_loss: 0.4676 - val_accuracy: 0.7774\n",
      "Epoch 100/300\n",
      "188/188 [==============================] - 0s 2ms/step - loss: 0.4035 - accuracy: 0.8139 - val_loss: 0.4655 - val_accuracy: 0.7845\n",
      "Epoch 101/300\n",
      "188/188 [==============================] - 0s 1ms/step - loss: 0.3988 - accuracy: 0.8157 - val_loss: 0.4616 - val_accuracy: 0.7890\n",
      "Epoch 102/300\n",
      "188/188 [==============================] - 0s 1ms/step - loss: 0.3989 - accuracy: 0.8212 - val_loss: 0.4663 - val_accuracy: 0.7830\n",
      "Epoch 103/300\n",
      "188/188 [==============================] - 0s 1ms/step - loss: 0.3994 - accuracy: 0.8160 - val_loss: 0.4642 - val_accuracy: 0.7709\n",
      "Epoch 104/300\n",
      "188/188 [==============================] - 0s 2ms/step - loss: 0.3964 - accuracy: 0.8180 - val_loss: 0.4635 - val_accuracy: 0.7945\n",
      "Epoch 105/300\n",
      "188/188 [==============================] - 0s 1ms/step - loss: 0.4001 - accuracy: 0.8129 - val_loss: 0.4697 - val_accuracy: 0.7664\n",
      "Epoch 106/300\n",
      "188/188 [==============================] - 0s 2ms/step - loss: 0.3945 - accuracy: 0.8195 - val_loss: 0.4651 - val_accuracy: 0.7694\n",
      "Epoch 107/300\n",
      "188/188 [==============================] - 0s 2ms/step - loss: 0.3934 - accuracy: 0.8216 - val_loss: 0.4625 - val_accuracy: 0.7815\n",
      "Epoch 108/300\n",
      "188/188 [==============================] - 0s 2ms/step - loss: 0.3919 - accuracy: 0.8241 - val_loss: 0.4764 - val_accuracy: 0.7779\n",
      "Epoch 109/300\n",
      "188/188 [==============================] - 0s 2ms/step - loss: 0.3936 - accuracy: 0.8199 - val_loss: 0.4624 - val_accuracy: 0.7980\n",
      "Epoch 110/300\n",
      "188/188 [==============================] - ETA: 0s - loss: 0.3872 - accuracy: 0.83 - 0s 1ms/step - loss: 0.3882 - accuracy: 0.8294 - val_loss: 0.4590 - val_accuracy: 0.7995\n",
      "Epoch 111/300\n",
      "188/188 [==============================] - 0s 2ms/step - loss: 0.3871 - accuracy: 0.8254 - val_loss: 0.4557 - val_accuracy: 0.7905\n",
      "Epoch 112/300\n",
      "188/188 [==============================] - 0s 2ms/step - loss: 0.3854 - accuracy: 0.8247 - val_loss: 0.4646 - val_accuracy: 0.7895\n",
      "Epoch 113/300\n",
      "188/188 [==============================] - 0s 2ms/step - loss: 0.3884 - accuracy: 0.8246 - val_loss: 0.4558 - val_accuracy: 0.7885\n",
      "Epoch 114/300\n",
      "188/188 [==============================] - 0s 2ms/step - loss: 0.3828 - accuracy: 0.8286 - val_loss: 0.4539 - val_accuracy: 0.7920\n",
      "Epoch 115/300\n",
      "188/188 [==============================] - 0s 2ms/step - loss: 0.3856 - accuracy: 0.8249 - val_loss: 0.4595 - val_accuracy: 0.7955\n",
      "Epoch 116/300\n",
      "188/188 [==============================] - 0s 2ms/step - loss: 0.3840 - accuracy: 0.8282 - val_loss: 0.4543 - val_accuracy: 0.7960\n",
      "Epoch 117/300\n",
      "188/188 [==============================] - 0s 2ms/step - loss: 0.3790 - accuracy: 0.8294 - val_loss: 0.4556 - val_accuracy: 0.7960\n",
      "Epoch 118/300\n",
      "188/188 [==============================] - 0s 2ms/step - loss: 0.3780 - accuracy: 0.8327 - val_loss: 0.4502 - val_accuracy: 0.7955\n",
      "Epoch 119/300\n",
      "188/188 [==============================] - 0s 2ms/step - loss: 0.3820 - accuracy: 0.8257 - val_loss: 0.4578 - val_accuracy: 0.7870\n",
      "Epoch 120/300\n",
      "188/188 [==============================] - 0s 2ms/step - loss: 0.3758 - accuracy: 0.8332 - val_loss: 0.4450 - val_accuracy: 0.8030\n",
      "Epoch 121/300\n",
      "188/188 [==============================] - 0s 2ms/step - loss: 0.3735 - accuracy: 0.8336 - val_loss: 0.4605 - val_accuracy: 0.7965\n",
      "Epoch 122/300\n",
      "188/188 [==============================] - 0s 2ms/step - loss: 0.3746 - accuracy: 0.8353 - val_loss: 0.4570 - val_accuracy: 0.7960\n",
      "Epoch 123/300\n",
      "188/188 [==============================] - 0s 1ms/step - loss: 0.3758 - accuracy: 0.8309 - val_loss: 0.4555 - val_accuracy: 0.7769\n",
      "Epoch 124/300\n",
      "188/188 [==============================] - 0s 2ms/step - loss: 0.3731 - accuracy: 0.8358 - val_loss: 0.4500 - val_accuracy: 0.7985\n",
      "Epoch 125/300\n",
      "188/188 [==============================] - 0s 2ms/step - loss: 0.3696 - accuracy: 0.8344 - val_loss: 0.4471 - val_accuracy: 0.8035\n",
      "Epoch 126/300\n",
      "188/188 [==============================] - 0s 1ms/step - loss: 0.3704 - accuracy: 0.8358 - val_loss: 0.4474 - val_accuracy: 0.8030\n",
      "Epoch 127/300\n",
      "188/188 [==============================] - 0s 2ms/step - loss: 0.3682 - accuracy: 0.8334 - val_loss: 0.4630 - val_accuracy: 0.7920\n",
      "Epoch 128/300\n",
      "188/188 [==============================] - 0s 2ms/step - loss: 0.3676 - accuracy: 0.8336 - val_loss: 0.4587 - val_accuracy: 0.7955\n",
      "Epoch 129/300\n",
      "188/188 [==============================] - 0s 2ms/step - loss: 0.3654 - accuracy: 0.8361 - val_loss: 0.4538 - val_accuracy: 0.8085\n",
      "Epoch 130/300\n",
      "188/188 [==============================] - 0s 2ms/step - loss: 0.3644 - accuracy: 0.8368 - val_loss: 0.4530 - val_accuracy: 0.7930\n",
      "Epoch 131/300\n",
      "188/188 [==============================] - 0s 2ms/step - loss: 0.3633 - accuracy: 0.8434 - val_loss: 0.4520 - val_accuracy: 0.7940\n",
      "Epoch 132/300\n",
      "188/188 [==============================] - 0s 2ms/step - loss: 0.3612 - accuracy: 0.8368 - val_loss: 0.4547 - val_accuracy: 0.7930\n",
      "Epoch 133/300\n",
      "188/188 [==============================] - 0s 2ms/step - loss: 0.3628 - accuracy: 0.8403 - val_loss: 0.4454 - val_accuracy: 0.8065\n",
      "Epoch 134/300\n",
      "188/188 [==============================] - 0s 2ms/step - loss: 0.3658 - accuracy: 0.8344 - val_loss: 0.4423 - val_accuracy: 0.8095\n",
      "Epoch 135/300\n",
      "188/188 [==============================] - 0s 2ms/step - loss: 0.3626 - accuracy: 0.8379 - val_loss: 0.4888 - val_accuracy: 0.7619\n",
      "Epoch 136/300\n",
      "188/188 [==============================] - 0s 2ms/step - loss: 0.3596 - accuracy: 0.8403 - val_loss: 0.4597 - val_accuracy: 0.7880\n",
      "Epoch 137/300\n",
      "188/188 [==============================] - 0s 2ms/step - loss: 0.3596 - accuracy: 0.8393 - val_loss: 0.4659 - val_accuracy: 0.7744\n",
      "Epoch 138/300\n",
      "188/188 [==============================] - 0s 2ms/step - loss: 0.3582 - accuracy: 0.8449 - val_loss: 0.4432 - val_accuracy: 0.8090\n",
      "Epoch 139/300\n",
      "188/188 [==============================] - 0s 2ms/step - loss: 0.3551 - accuracy: 0.8426 - val_loss: 0.4491 - val_accuracy: 0.8030\n",
      "Epoch 140/300\n",
      "188/188 [==============================] - 0s 2ms/step - loss: 0.3548 - accuracy: 0.8456 - val_loss: 0.4428 - val_accuracy: 0.8145\n",
      "Epoch 141/300\n",
      "188/188 [==============================] - 0s 2ms/step - loss: 0.3505 - accuracy: 0.8439 - val_loss: 0.4476 - val_accuracy: 0.8090\n",
      "Epoch 142/300\n",
      "188/188 [==============================] - 0s 2ms/step - loss: 0.3536 - accuracy: 0.8414 - val_loss: 0.4501 - val_accuracy: 0.8090\n",
      "Epoch 143/300\n",
      "188/188 [==============================] - 0s 2ms/step - loss: 0.3552 - accuracy: 0.8411 - val_loss: 0.4595 - val_accuracy: 0.7845\n",
      "Epoch 144/300\n",
      "188/188 [==============================] - 0s 2ms/step - loss: 0.3518 - accuracy: 0.8424 - val_loss: 0.4589 - val_accuracy: 0.7875\n",
      "Epoch 145/300\n",
      "188/188 [==============================] - 0s 2ms/step - loss: 0.3519 - accuracy: 0.8439 - val_loss: 0.4501 - val_accuracy: 0.8090\n",
      "Epoch 146/300\n",
      "188/188 [==============================] - 0s 2ms/step - loss: 0.3487 - accuracy: 0.8456 - val_loss: 0.4556 - val_accuracy: 0.7930\n",
      "Epoch 147/300\n",
      "188/188 [==============================] - 0s 2ms/step - loss: 0.3501 - accuracy: 0.8439 - val_loss: 0.4405 - val_accuracy: 0.8140\n",
      "Epoch 148/300\n",
      "188/188 [==============================] - 0s 2ms/step - loss: 0.3473 - accuracy: 0.8451 - val_loss: 0.4464 - val_accuracy: 0.8145\n",
      "Epoch 149/300\n",
      "188/188 [==============================] - 0s 2ms/step - loss: 0.3472 - accuracy: 0.8443 - val_loss: 0.4508 - val_accuracy: 0.7985\n",
      "Epoch 150/300\n",
      "188/188 [==============================] - 0s 2ms/step - loss: 0.3448 - accuracy: 0.8513 - val_loss: 0.4418 - val_accuracy: 0.8095\n",
      "Epoch 151/300\n",
      "188/188 [==============================] - 0s 2ms/step - loss: 0.3496 - accuracy: 0.8449 - val_loss: 0.4495 - val_accuracy: 0.7995\n",
      "Epoch 152/300\n",
      "188/188 [==============================] - 0s 2ms/step - loss: 0.3455 - accuracy: 0.8488 - val_loss: 0.4624 - val_accuracy: 0.7880\n",
      "Epoch 153/300\n",
      "188/188 [==============================] - 0s 2ms/step - loss: 0.3417 - accuracy: 0.8505 - val_loss: 0.4609 - val_accuracy: 0.7950\n",
      "Epoch 154/300\n",
      "188/188 [==============================] - 0s 2ms/step - loss: 0.3451 - accuracy: 0.8416 - val_loss: 0.4467 - val_accuracy: 0.8015\n",
      "Epoch 155/300\n",
      "188/188 [==============================] - 0s 2ms/step - loss: 0.3389 - accuracy: 0.8496 - val_loss: 0.4397 - val_accuracy: 0.8055\n",
      "Epoch 156/300\n",
      "188/188 [==============================] - 0s 2ms/step - loss: 0.3419 - accuracy: 0.8501 - val_loss: 0.4429 - val_accuracy: 0.8020\n",
      "Epoch 157/300\n",
      "188/188 [==============================] - 0s 2ms/step - loss: 0.3385 - accuracy: 0.8515 - val_loss: 0.4479 - val_accuracy: 0.8050\n",
      "Epoch 158/300\n",
      "188/188 [==============================] - 0s 2ms/step - loss: 0.3418 - accuracy: 0.8486 - val_loss: 0.5015 - val_accuracy: 0.7644\n",
      "Epoch 159/300\n",
      "188/188 [==============================] - 0s 2ms/step - loss: 0.3387 - accuracy: 0.8528 - val_loss: 0.4495 - val_accuracy: 0.8095\n",
      "Epoch 160/300\n",
      "188/188 [==============================] - 0s 2ms/step - loss: 0.3405 - accuracy: 0.8528 - val_loss: 0.4419 - val_accuracy: 0.8140\n",
      "Epoch 161/300\n",
      "188/188 [==============================] - 0s 2ms/step - loss: 0.3356 - accuracy: 0.8543 - val_loss: 0.4429 - val_accuracy: 0.8015\n",
      "Epoch 162/300\n",
      "188/188 [==============================] - 0s 2ms/step - loss: 0.3422 - accuracy: 0.8466 - val_loss: 0.4393 - val_accuracy: 0.8175\n",
      "Epoch 163/300\n",
      "188/188 [==============================] - 0s 2ms/step - loss: 0.3371 - accuracy: 0.8493 - val_loss: 0.4403 - val_accuracy: 0.8065\n",
      "Epoch 164/300\n",
      "188/188 [==============================] - 0s 2ms/step - loss: 0.3325 - accuracy: 0.8545 - val_loss: 0.4351 - val_accuracy: 0.8150\n",
      "Epoch 165/300\n",
      "188/188 [==============================] - 0s 2ms/step - loss: 0.3341 - accuracy: 0.8530 - val_loss: 0.4363 - val_accuracy: 0.8150\n",
      "Epoch 166/300\n",
      "188/188 [==============================] - 0s 2ms/step - loss: 0.3324 - accuracy: 0.8551 - val_loss: 0.4739 - val_accuracy: 0.7840\n",
      "Epoch 167/300\n",
      "188/188 [==============================] - 0s 2ms/step - loss: 0.3393 - accuracy: 0.8500 - val_loss: 0.4565 - val_accuracy: 0.7935\n",
      "Epoch 168/300\n",
      "188/188 [==============================] - 0s 2ms/step - loss: 0.3422 - accuracy: 0.8480 - val_loss: 0.4712 - val_accuracy: 0.7925\n",
      "Epoch 169/300\n",
      "188/188 [==============================] - 0s 2ms/step - loss: 0.3377 - accuracy: 0.8531 - val_loss: 0.4334 - val_accuracy: 0.8135\n",
      "Epoch 170/300\n",
      "188/188 [==============================] - 0s 2ms/step - loss: 0.3275 - accuracy: 0.8610 - val_loss: 0.4455 - val_accuracy: 0.8025\n",
      "Epoch 171/300\n",
      "188/188 [==============================] - 0s 2ms/step - loss: 0.3268 - accuracy: 0.8612 - val_loss: 0.4417 - val_accuracy: 0.8090\n",
      "Epoch 172/300\n",
      "188/188 [==============================] - 0s 2ms/step - loss: 0.3271 - accuracy: 0.8596 - val_loss: 0.4431 - val_accuracy: 0.8145\n",
      "Epoch 173/300\n",
      "188/188 [==============================] - 0s 2ms/step - loss: 0.3242 - accuracy: 0.8585 - val_loss: 0.4382 - val_accuracy: 0.8190\n",
      "Epoch 174/300\n",
      "188/188 [==============================] - 0s 2ms/step - loss: 0.3270 - accuracy: 0.8595 - val_loss: 0.4501 - val_accuracy: 0.8080\n",
      "Epoch 175/300\n",
      "188/188 [==============================] - 0s 2ms/step - loss: 0.3242 - accuracy: 0.8600 - val_loss: 0.4504 - val_accuracy: 0.8120\n",
      "Epoch 176/300\n",
      "188/188 [==============================] - 0s 2ms/step - loss: 0.3269 - accuracy: 0.8591 - val_loss: 0.4458 - val_accuracy: 0.8020\n",
      "Epoch 177/300\n",
      "188/188 [==============================] - 0s 2ms/step - loss: 0.3240 - accuracy: 0.8560 - val_loss: 0.4377 - val_accuracy: 0.8201\n",
      "Epoch 178/300\n",
      "188/188 [==============================] - 0s 2ms/step - loss: 0.3222 - accuracy: 0.8578 - val_loss: 0.4407 - val_accuracy: 0.8175\n",
      "Epoch 179/300\n",
      "188/188 [==============================] - 0s 2ms/step - loss: 0.3251 - accuracy: 0.8576 - val_loss: 0.4639 - val_accuracy: 0.7950\n",
      "Epoch 180/300\n",
      "188/188 [==============================] - 0s 2ms/step - loss: 0.3202 - accuracy: 0.8627 - val_loss: 0.4326 - val_accuracy: 0.8241\n",
      "Epoch 181/300\n",
      "188/188 [==============================] - 0s 2ms/step - loss: 0.3215 - accuracy: 0.8623 - val_loss: 0.4453 - val_accuracy: 0.8180\n",
      "Epoch 182/300\n",
      "188/188 [==============================] - 0s 2ms/step - loss: 0.3232 - accuracy: 0.8615 - val_loss: 0.4482 - val_accuracy: 0.8040\n",
      "Epoch 183/300\n",
      "188/188 [==============================] - 0s 2ms/step - loss: 0.3211 - accuracy: 0.8602 - val_loss: 0.4673 - val_accuracy: 0.7955\n",
      "Epoch 184/300\n",
      "188/188 [==============================] - 0s 2ms/step - loss: 0.3324 - accuracy: 0.8526 - val_loss: 0.4417 - val_accuracy: 0.8125\n",
      "Epoch 185/300\n",
      "188/188 [==============================] - 0s 2ms/step - loss: 0.3195 - accuracy: 0.8620 - val_loss: 0.4388 - val_accuracy: 0.8221\n",
      "Epoch 186/300\n",
      "188/188 [==============================] - 0s 2ms/step - loss: 0.3176 - accuracy: 0.8591 - val_loss: 0.4444 - val_accuracy: 0.8040\n",
      "Epoch 187/300\n",
      "188/188 [==============================] - 0s 2ms/step - loss: 0.3160 - accuracy: 0.8653 - val_loss: 0.4499 - val_accuracy: 0.8075\n",
      "Epoch 188/300\n",
      "188/188 [==============================] - 0s 2ms/step - loss: 0.3223 - accuracy: 0.8570 - val_loss: 0.4432 - val_accuracy: 0.8120\n",
      "Epoch 189/300\n",
      "188/188 [==============================] - 0s 2ms/step - loss: 0.3152 - accuracy: 0.8623 - val_loss: 0.4514 - val_accuracy: 0.8055\n",
      "Epoch 190/300\n",
      "188/188 [==============================] - 0s 1ms/step - loss: 0.3143 - accuracy: 0.8675 - val_loss: 0.4638 - val_accuracy: 0.8000\n",
      "Epoch 191/300\n",
      "188/188 [==============================] - 0s 2ms/step - loss: 0.3172 - accuracy: 0.8618 - val_loss: 0.4485 - val_accuracy: 0.8090\n",
      "Epoch 192/300\n",
      "188/188 [==============================] - 0s 1ms/step - loss: 0.3126 - accuracy: 0.8647 - val_loss: 0.4454 - val_accuracy: 0.8070\n",
      "Epoch 193/300\n",
      "188/188 [==============================] - 0s 2ms/step - loss: 0.3158 - accuracy: 0.8607 - val_loss: 0.4400 - val_accuracy: 0.8145\n",
      "Epoch 194/300\n",
      "188/188 [==============================] - 0s 2ms/step - loss: 0.3171 - accuracy: 0.8613 - val_loss: 0.4357 - val_accuracy: 0.8271\n",
      "Epoch 195/300\n",
      "188/188 [==============================] - 0s 2ms/step - loss: 0.3109 - accuracy: 0.8695 - val_loss: 0.4668 - val_accuracy: 0.8105\n",
      "Epoch 196/300\n",
      "188/188 [==============================] - 0s 2ms/step - loss: 0.3294 - accuracy: 0.8560 - val_loss: 0.4426 - val_accuracy: 0.8190\n",
      "Epoch 197/300\n",
      "188/188 [==============================] - 0s 2ms/step - loss: 0.3115 - accuracy: 0.8668 - val_loss: 0.4484 - val_accuracy: 0.7995\n",
      "Epoch 198/300\n",
      "188/188 [==============================] - 0s 2ms/step - loss: 0.3144 - accuracy: 0.8635 - val_loss: 0.4521 - val_accuracy: 0.8015\n",
      "Epoch 199/300\n",
      "188/188 [==============================] - 0s 2ms/step - loss: 0.3078 - accuracy: 0.8702 - val_loss: 0.4429 - val_accuracy: 0.8115\n",
      "Epoch 200/300\n",
      "188/188 [==============================] - 0s 2ms/step - loss: 0.3068 - accuracy: 0.8700 - val_loss: 0.4523 - val_accuracy: 0.8045\n",
      "Epoch 201/300\n",
      "188/188 [==============================] - 0s 2ms/step - loss: 0.3117 - accuracy: 0.8618 - val_loss: 0.4346 - val_accuracy: 0.8206\n",
      "Epoch 202/300\n",
      "188/188 [==============================] - 0s 2ms/step - loss: 0.3083 - accuracy: 0.8728 - val_loss: 0.4455 - val_accuracy: 0.8095\n",
      "Epoch 203/300\n",
      "188/188 [==============================] - 0s 1ms/step - loss: 0.3067 - accuracy: 0.8707 - val_loss: 0.4528 - val_accuracy: 0.8105\n",
      "Epoch 204/300\n",
      "188/188 [==============================] - 0s 2ms/step - loss: 0.3073 - accuracy: 0.8677 - val_loss: 0.4379 - val_accuracy: 0.8175\n",
      "Epoch 205/300\n",
      "188/188 [==============================] - 0s 2ms/step - loss: 0.3038 - accuracy: 0.8698 - val_loss: 0.4375 - val_accuracy: 0.8190\n",
      "Epoch 206/300\n",
      "188/188 [==============================] - 0s 2ms/step - loss: 0.3037 - accuracy: 0.8770 - val_loss: 0.4513 - val_accuracy: 0.8180\n",
      "Epoch 207/300\n",
      "188/188 [==============================] - 0s 2ms/step - loss: 0.3084 - accuracy: 0.8658 - val_loss: 0.4386 - val_accuracy: 0.8246\n",
      "Epoch 208/300\n",
      "188/188 [==============================] - 0s 1ms/step - loss: 0.3028 - accuracy: 0.8703 - val_loss: 0.4425 - val_accuracy: 0.8206\n",
      "Epoch 209/300\n",
      "188/188 [==============================] - 0s 2ms/step - loss: 0.3061 - accuracy: 0.8695 - val_loss: 0.4447 - val_accuracy: 0.8165\n",
      "Epoch 210/300\n",
      "188/188 [==============================] - 0s 1ms/step - loss: 0.3036 - accuracy: 0.8740 - val_loss: 0.4504 - val_accuracy: 0.8155\n",
      "Epoch 211/300\n",
      "188/188 [==============================] - 0s 2ms/step - loss: 0.2996 - accuracy: 0.8744 - val_loss: 0.4815 - val_accuracy: 0.7960\n",
      "Epoch 212/300\n",
      "188/188 [==============================] - 0s 2ms/step - loss: 0.3125 - accuracy: 0.8653 - val_loss: 0.4338 - val_accuracy: 0.8256\n",
      "Epoch 213/300\n",
      "188/188 [==============================] - 0s 2ms/step - loss: 0.3005 - accuracy: 0.8732 - val_loss: 0.4348 - val_accuracy: 0.8306\n",
      "Epoch 214/300\n",
      "188/188 [==============================] - 0s 2ms/step - loss: 0.2974 - accuracy: 0.8757 - val_loss: 0.4421 - val_accuracy: 0.8206\n",
      "Epoch 215/300\n",
      "188/188 [==============================] - 0s 2ms/step - loss: 0.3074 - accuracy: 0.8687 - val_loss: 0.4380 - val_accuracy: 0.8216\n",
      "Epoch 216/300\n",
      "188/188 [==============================] - 0s 2ms/step - loss: 0.3037 - accuracy: 0.8715 - val_loss: 0.4423 - val_accuracy: 0.8211\n",
      "Epoch 217/300\n",
      "188/188 [==============================] - 0s 2ms/step - loss: 0.2993 - accuracy: 0.8712 - val_loss: 0.4569 - val_accuracy: 0.8125\n",
      "Epoch 218/300\n",
      "188/188 [==============================] - 0s 2ms/step - loss: 0.3082 - accuracy: 0.8678 - val_loss: 0.4612 - val_accuracy: 0.8035\n",
      "Epoch 219/300\n",
      "188/188 [==============================] - 0s 2ms/step - loss: 0.3016 - accuracy: 0.8705 - val_loss: 0.4520 - val_accuracy: 0.8145\n",
      "Epoch 220/300\n",
      "188/188 [==============================] - 0s 2ms/step - loss: 0.2988 - accuracy: 0.8734 - val_loss: 0.4418 - val_accuracy: 0.8226\n",
      "Epoch 221/300\n",
      "188/188 [==============================] - 0s 2ms/step - loss: 0.3000 - accuracy: 0.8703 - val_loss: 0.4346 - val_accuracy: 0.8246\n",
      "Epoch 222/300\n",
      "188/188 [==============================] - 0s 2ms/step - loss: 0.3014 - accuracy: 0.8742 - val_loss: 0.4431 - val_accuracy: 0.8175\n",
      "Epoch 223/300\n",
      "188/188 [==============================] - 0s 2ms/step - loss: 0.2927 - accuracy: 0.8762 - val_loss: 0.4391 - val_accuracy: 0.8185\n",
      "Epoch 224/300\n",
      "188/188 [==============================] - 0s 1ms/step - loss: 0.2928 - accuracy: 0.8789 - val_loss: 0.4780 - val_accuracy: 0.8005\n",
      "Epoch 225/300\n",
      "188/188 [==============================] - 0s 2ms/step - loss: 0.3096 - accuracy: 0.8680 - val_loss: 0.4453 - val_accuracy: 0.8175\n",
      "Epoch 226/300\n",
      "188/188 [==============================] - 0s 2ms/step - loss: 0.2927 - accuracy: 0.8745 - val_loss: 0.4609 - val_accuracy: 0.8040\n",
      "Epoch 227/300\n",
      "188/188 [==============================] - 0s 2ms/step - loss: 0.2898 - accuracy: 0.8774 - val_loss: 0.4750 - val_accuracy: 0.8015\n",
      "Epoch 228/300\n",
      "188/188 [==============================] - 0s 2ms/step - loss: 0.3057 - accuracy: 0.8682 - val_loss: 0.4356 - val_accuracy: 0.8246\n",
      "Epoch 229/300\n",
      "188/188 [==============================] - 0s 2ms/step - loss: 0.2903 - accuracy: 0.8812 - val_loss: 0.4357 - val_accuracy: 0.8261\n",
      "Epoch 230/300\n",
      "188/188 [==============================] - 0s 2ms/step - loss: 0.2904 - accuracy: 0.8780 - val_loss: 0.4532 - val_accuracy: 0.8115\n",
      "Epoch 231/300\n",
      "188/188 [==============================] - 0s 2ms/step - loss: 0.2922 - accuracy: 0.8777 - val_loss: 0.4467 - val_accuracy: 0.8201\n",
      "Epoch 232/300\n",
      "188/188 [==============================] - 0s 2ms/step - loss: 0.2896 - accuracy: 0.8825 - val_loss: 0.4332 - val_accuracy: 0.8346\n",
      "Epoch 233/300\n",
      "188/188 [==============================] - 0s 2ms/step - loss: 0.2866 - accuracy: 0.8812 - val_loss: 0.4421 - val_accuracy: 0.8195\n",
      "Epoch 234/300\n",
      "188/188 [==============================] - 0s 2ms/step - loss: 0.2939 - accuracy: 0.8745 - val_loss: 0.4378 - val_accuracy: 0.8281\n",
      "Epoch 235/300\n",
      "188/188 [==============================] - 0s 2ms/step - loss: 0.2947 - accuracy: 0.8764 - val_loss: 0.4334 - val_accuracy: 0.8311\n",
      "Epoch 236/300\n",
      "188/188 [==============================] - 0s 2ms/step - loss: 0.2906 - accuracy: 0.8754 - val_loss: 0.4332 - val_accuracy: 0.8301\n",
      "Epoch 237/300\n",
      "188/188 [==============================] - 0s 1ms/step - loss: 0.2889 - accuracy: 0.8810 - val_loss: 0.4353 - val_accuracy: 0.8281\n",
      "Epoch 238/300\n",
      "188/188 [==============================] - 0s 2ms/step - loss: 0.2865 - accuracy: 0.8800 - val_loss: 0.4437 - val_accuracy: 0.8206\n",
      "Epoch 239/300\n",
      "188/188 [==============================] - 0s 2ms/step - loss: 0.2865 - accuracy: 0.8834 - val_loss: 0.4464 - val_accuracy: 0.8266\n",
      "Epoch 240/300\n",
      "188/188 [==============================] - 0s 2ms/step - loss: 0.2870 - accuracy: 0.8800 - val_loss: 0.4421 - val_accuracy: 0.8291\n",
      "Epoch 241/300\n",
      "188/188 [==============================] - 0s 2ms/step - loss: 0.2874 - accuracy: 0.8824 - val_loss: 0.4436 - val_accuracy: 0.8251\n",
      "Epoch 242/300\n",
      "188/188 [==============================] - 0s 2ms/step - loss: 0.2865 - accuracy: 0.8805 - val_loss: 0.4395 - val_accuracy: 0.8241\n",
      "Epoch 243/300\n",
      "188/188 [==============================] - 0s 2ms/step - loss: 0.2850 - accuracy: 0.8800 - val_loss: 0.5145 - val_accuracy: 0.7799\n",
      "Epoch 244/300\n",
      "188/188 [==============================] - 0s 1ms/step - loss: 0.2869 - accuracy: 0.8785 - val_loss: 0.4448 - val_accuracy: 0.8206\n",
      "Epoch 245/300\n",
      "188/188 [==============================] - 0s 2ms/step - loss: 0.2838 - accuracy: 0.8810 - val_loss: 0.4571 - val_accuracy: 0.8145\n",
      "Epoch 246/300\n",
      "188/188 [==============================] - 0s 2ms/step - loss: 0.2841 - accuracy: 0.8832 - val_loss: 0.4380 - val_accuracy: 0.8271\n",
      "Epoch 247/300\n",
      "188/188 [==============================] - 0s 2ms/step - loss: 0.2820 - accuracy: 0.8839 - val_loss: 0.4485 - val_accuracy: 0.8251\n",
      "Epoch 248/300\n",
      "188/188 [==============================] - 0s 2ms/step - loss: 0.3074 - accuracy: 0.8713 - val_loss: 0.4582 - val_accuracy: 0.8140\n",
      "Epoch 249/300\n",
      "188/188 [==============================] - 0s 2ms/step - loss: 0.2859 - accuracy: 0.8827 - val_loss: 0.4500 - val_accuracy: 0.8276\n",
      "Epoch 250/300\n",
      "188/188 [==============================] - 0s 2ms/step - loss: 0.2853 - accuracy: 0.8809 - val_loss: 0.4444 - val_accuracy: 0.8281\n",
      "Epoch 251/300\n",
      "188/188 [==============================] - 0s 1ms/step - loss: 0.2780 - accuracy: 0.8844 - val_loss: 0.4441 - val_accuracy: 0.8226\n",
      "Epoch 252/300\n",
      "188/188 [==============================] - 0s 1ms/step - loss: 0.2793 - accuracy: 0.8847 - val_loss: 0.4573 - val_accuracy: 0.8100\n",
      "Epoch 253/300\n",
      "188/188 [==============================] - 0s 2ms/step - loss: 0.2829 - accuracy: 0.8845 - val_loss: 0.4525 - val_accuracy: 0.8251\n",
      "Epoch 254/300\n",
      "188/188 [==============================] - 0s 2ms/step - loss: 0.2816 - accuracy: 0.8822 - val_loss: 0.4426 - val_accuracy: 0.8311\n",
      "Epoch 255/300\n",
      "188/188 [==============================] - 0s 2ms/step - loss: 0.2754 - accuracy: 0.8876 - val_loss: 0.4443 - val_accuracy: 0.8276\n",
      "Epoch 256/300\n",
      "188/188 [==============================] - 0s 2ms/step - loss: 0.2772 - accuracy: 0.8852 - val_loss: 0.4931 - val_accuracy: 0.8025\n",
      "Epoch 257/300\n",
      "188/188 [==============================] - 0s 2ms/step - loss: 0.2774 - accuracy: 0.8862 - val_loss: 0.4491 - val_accuracy: 0.8115\n",
      "Epoch 258/300\n",
      "188/188 [==============================] - 0s 2ms/step - loss: 0.2776 - accuracy: 0.8845 - val_loss: 0.4428 - val_accuracy: 0.8296\n",
      "Epoch 259/300\n",
      "188/188 [==============================] - 0s 2ms/step - loss: 0.2791 - accuracy: 0.8820 - val_loss: 0.4517 - val_accuracy: 0.8296\n",
      "Epoch 260/300\n",
      "188/188 [==============================] - 0s 1ms/step - loss: 0.2902 - accuracy: 0.8759 - val_loss: 0.4535 - val_accuracy: 0.8306\n",
      "Epoch 261/300\n",
      "188/188 [==============================] - 0s 2ms/step - loss: 0.2797 - accuracy: 0.8807 - val_loss: 0.4373 - val_accuracy: 0.8301\n",
      "Epoch 262/300\n",
      "188/188 [==============================] - 0s 1ms/step - loss: 0.2722 - accuracy: 0.8891 - val_loss: 0.4489 - val_accuracy: 0.8286\n",
      "Epoch 263/300\n",
      "188/188 [==============================] - 0s 2ms/step - loss: 0.2799 - accuracy: 0.8822 - val_loss: 0.4443 - val_accuracy: 0.8246\n",
      "Epoch 264/300\n",
      "188/188 [==============================] - 0s 2ms/step - loss: 0.2743 - accuracy: 0.8845 - val_loss: 0.4486 - val_accuracy: 0.8306\n",
      "Epoch 265/300\n",
      "188/188 [==============================] - 0s 2ms/step - loss: 0.2737 - accuracy: 0.8891 - val_loss: 0.4602 - val_accuracy: 0.8150\n",
      "Epoch 266/300\n",
      "188/188 [==============================] - 0s 2ms/step - loss: 0.2779 - accuracy: 0.8830 - val_loss: 0.4487 - val_accuracy: 0.8246\n",
      "Epoch 267/300\n",
      "188/188 [==============================] - 0s 2ms/step - loss: 0.2756 - accuracy: 0.8829 - val_loss: 0.4517 - val_accuracy: 0.8301\n",
      "Epoch 268/300\n",
      "188/188 [==============================] - 0s 1ms/step - loss: 0.2727 - accuracy: 0.8864 - val_loss: 0.4423 - val_accuracy: 0.8291\n",
      "Epoch 269/300\n",
      "188/188 [==============================] - 0s 2ms/step - loss: 0.2726 - accuracy: 0.8907 - val_loss: 0.4779 - val_accuracy: 0.8095\n",
      "Epoch 270/300\n",
      "188/188 [==============================] - 0s 2ms/step - loss: 0.2791 - accuracy: 0.8807 - val_loss: 0.4660 - val_accuracy: 0.8120\n",
      "Epoch 271/300\n",
      "188/188 [==============================] - 0s 1ms/step - loss: 0.2702 - accuracy: 0.8886 - val_loss: 0.4395 - val_accuracy: 0.8321\n",
      "Epoch 272/300\n",
      "188/188 [==============================] - 0s 1ms/step - loss: 0.2705 - accuracy: 0.8872 - val_loss: 0.4888 - val_accuracy: 0.8055\n",
      "Epoch 273/300\n",
      "188/188 [==============================] - 0s 1ms/step - loss: 0.2715 - accuracy: 0.8857 - val_loss: 0.4397 - val_accuracy: 0.8346\n",
      "Epoch 274/300\n",
      "188/188 [==============================] - 0s 1ms/step - loss: 0.2701 - accuracy: 0.8876 - val_loss: 0.4583 - val_accuracy: 0.8201\n",
      "Epoch 275/300\n",
      "188/188 [==============================] - 0s 1ms/step - loss: 0.2716 - accuracy: 0.8911 - val_loss: 0.4747 - val_accuracy: 0.8025\n",
      "Epoch 276/300\n",
      "188/188 [==============================] - 0s 2ms/step - loss: 0.2717 - accuracy: 0.8849 - val_loss: 0.4489 - val_accuracy: 0.8271\n",
      "Epoch 277/300\n",
      "188/188 [==============================] - 0s 2ms/step - loss: 0.2691 - accuracy: 0.8867 - val_loss: 0.4464 - val_accuracy: 0.8306\n",
      "Epoch 278/300\n",
      "188/188 [==============================] - 0s 2ms/step - loss: 0.2693 - accuracy: 0.8914 - val_loss: 0.4510 - val_accuracy: 0.8206\n",
      "Epoch 279/300\n",
      "188/188 [==============================] - 0s 2ms/step - loss: 0.2695 - accuracy: 0.8882 - val_loss: 0.4468 - val_accuracy: 0.8306\n",
      "Epoch 280/300\n",
      "188/188 [==============================] - 0s 2ms/step - loss: 0.2722 - accuracy: 0.8872 - val_loss: 0.4708 - val_accuracy: 0.8125\n",
      "Epoch 281/300\n",
      "188/188 [==============================] - 0s 2ms/step - loss: 0.2717 - accuracy: 0.8874 - val_loss: 0.4600 - val_accuracy: 0.8175\n",
      "Epoch 282/300\n",
      "188/188 [==============================] - 0s 2ms/step - loss: 0.2666 - accuracy: 0.8942 - val_loss: 0.4532 - val_accuracy: 0.8331\n",
      "Epoch 283/300\n",
      "188/188 [==============================] - 0s 2ms/step - loss: 0.2668 - accuracy: 0.8887 - val_loss: 0.4574 - val_accuracy: 0.8306\n",
      "Epoch 284/300\n",
      "188/188 [==============================] - 0s 1ms/step - loss: 0.2667 - accuracy: 0.8929 - val_loss: 0.4450 - val_accuracy: 0.8301\n",
      "Epoch 285/300\n",
      "188/188 [==============================] - 0s 2ms/step - loss: 0.2667 - accuracy: 0.8924 - val_loss: 0.4750 - val_accuracy: 0.8135\n",
      "Epoch 286/300\n",
      "188/188 [==============================] - 0s 2ms/step - loss: 0.2665 - accuracy: 0.8881 - val_loss: 0.4693 - val_accuracy: 0.8150\n",
      "Epoch 287/300\n",
      "188/188 [==============================] - 0s 2ms/step - loss: 0.2668 - accuracy: 0.8944 - val_loss: 0.4599 - val_accuracy: 0.8281\n",
      "Epoch 288/300\n",
      "188/188 [==============================] - 0s 2ms/step - loss: 0.2619 - accuracy: 0.8927 - val_loss: 0.4568 - val_accuracy: 0.8361\n",
      "Epoch 289/300\n",
      "188/188 [==============================] - 0s 2ms/step - loss: 0.2606 - accuracy: 0.8937 - val_loss: 0.4530 - val_accuracy: 0.8281\n",
      "Epoch 290/300\n",
      "188/188 [==============================] - 0s 1ms/step - loss: 0.2648 - accuracy: 0.8916 - val_loss: 0.4509 - val_accuracy: 0.8291\n",
      "Epoch 291/300\n",
      "188/188 [==============================] - 0s 2ms/step - loss: 0.2675 - accuracy: 0.8871 - val_loss: 0.4745 - val_accuracy: 0.8221\n",
      "Epoch 292/300\n",
      "188/188 [==============================] - 0s 2ms/step - loss: 0.2649 - accuracy: 0.8932 - val_loss: 0.4596 - val_accuracy: 0.8306\n",
      "Epoch 293/300\n",
      "188/188 [==============================] - 0s 2ms/step - loss: 0.2591 - accuracy: 0.8967 - val_loss: 0.4523 - val_accuracy: 0.8251\n",
      "Epoch 294/300\n",
      "188/188 [==============================] - 0s 2ms/step - loss: 0.2606 - accuracy: 0.8927 - val_loss: 0.4477 - val_accuracy: 0.8311\n",
      "Epoch 295/300\n",
      "188/188 [==============================] - 0s 2ms/step - loss: 0.2577 - accuracy: 0.8954 - val_loss: 0.4658 - val_accuracy: 0.8311\n",
      "Epoch 296/300\n",
      "188/188 [==============================] - 0s 2ms/step - loss: 0.2659 - accuracy: 0.8891 - val_loss: 0.4615 - val_accuracy: 0.8271\n",
      "Epoch 297/300\n",
      "188/188 [==============================] - 0s 2ms/step - loss: 0.2582 - accuracy: 0.8952 - val_loss: 0.4501 - val_accuracy: 0.8396\n",
      "Epoch 298/300\n",
      "188/188 [==============================] - 0s 2ms/step - loss: 0.2569 - accuracy: 0.8981 - val_loss: 0.4506 - val_accuracy: 0.8271\n",
      "Epoch 299/300\n",
      "188/188 [==============================] - 0s 2ms/step - loss: 0.2584 - accuracy: 0.8962 - val_loss: 0.4600 - val_accuracy: 0.8231\n",
      "Epoch 300/300\n",
      "188/188 [==============================] - 0s 2ms/step - loss: 0.2567 - accuracy: 0.8964 - val_loss: 0.4697 - val_accuracy: 0.8286\n"
     ]
    }
   ],
   "source": [
    "#history = model.fit(X_train, y_train, epochs=50, validation_data=(X_valid, y_valid))\n",
    "tensorboard_cb = keras.callbacks.TensorBoard(run_logdir)\n",
    "history = model.fit(X_train, y_train, epochs=300,\n",
    "                    validation_data=(X_valid, y_valid),\n",
    "                    callbacks=[tensorboard_cb])"
   ]
  },
  {
   "cell_type": "code",
   "execution_count": 26,
   "metadata": {},
   "outputs": [],
   "source": [
    "X_new = X_test[:20]"
   ]
  },
  {
   "cell_type": "code",
   "execution_count": 27,
   "metadata": {},
   "outputs": [
    {
     "name": "stdout",
     "output_type": "stream",
     "text": [
      "WARNING:tensorflow:AutoGraph could not transform <function Model.make_predict_function.<locals>.predict_function at 0x000002206E08BD38> and will run it as-is.\n",
      "Please report this to the TensorFlow team. When filing the bug, set the verbosity to 10 (on Linux, `export AUTOGRAPH_VERBOSITY=10`) and attach the full output.\n",
      "Cause: 'arguments' object has no attribute 'posonlyargs'\n",
      "To silence this warning, decorate the function with @tf.autograph.experimental.do_not_convert\n",
      "WARNING: AutoGraph could not transform <function Model.make_predict_function.<locals>.predict_function at 0x000002206E08BD38> and will run it as-is.\n",
      "Please report this to the TensorFlow team. When filing the bug, set the verbosity to 10 (on Linux, `export AUTOGRAPH_VERBOSITY=10`) and attach the full output.\n",
      "Cause: 'arguments' object has no attribute 'posonlyargs'\n",
      "To silence this warning, decorate the function with @tf.autograph.experimental.do_not_convert\n"
     ]
    }
   ],
   "source": [
    "y_test_pred = model.predict(X_new)\n",
    "y_test_pred=(y_test_pred >0.5).astype(int)"
   ]
  },
  {
   "cell_type": "code",
   "execution_count": 28,
   "metadata": {},
   "outputs": [
    {
     "data": {
      "text/plain": [
       "6"
      ]
     },
     "execution_count": 28,
     "metadata": {},
     "output_type": "execute_result"
    }
   ],
   "source": [
    "y_test_pred.sum()"
   ]
  },
  {
   "cell_type": "code",
   "execution_count": 29,
   "metadata": {},
   "outputs": [
    {
     "data": {
      "text/plain": [
       "9"
      ]
     },
     "execution_count": 29,
     "metadata": {},
     "output_type": "execute_result"
    }
   ],
   "source": [
    "y_test[:20].sum()"
   ]
  },
  {
   "cell_type": "code",
   "execution_count": 30,
   "metadata": {},
   "outputs": [
    {
     "data": {
      "text/plain": [
       "dict_keys(['loss', 'accuracy', 'val_loss', 'val_accuracy'])"
      ]
     },
     "execution_count": 30,
     "metadata": {},
     "output_type": "execute_result"
    }
   ],
   "source": [
    "history.history.keys()"
   ]
  },
  {
   "cell_type": "code",
   "execution_count": 31,
   "metadata": {},
   "outputs": [
    {
     "data": {
      "image/png": "[encoded data removed]",
      "text/plain": [
       "<Figure size 576x360 with 1 Axes>"
      ]
     },
     "metadata": {
      "needs_background": "light"
     },
     "output_type": "display_data"
    }
   ],
   "source": [
    "pd.DataFrame(history.history).plot(figsize=(8, 5))\n",
    "#plt.gca().set_ylim(0, 1)\n",
    "plt.title(\"Keras的学习曲线\") \n",
    "plt.show()\n",
    " "
   ]
  },
  {
   "cell_type": "code",
   "execution_count": 32,
   "metadata": {},
   "outputs": [
    {
     "name": "stdout",
     "output_type": "stream",
     "text": [
      "84/84 [==============================] - 0s 889us/step - loss: 0.4717 - accuracy: 0.8222\n"
     ]
    }
   ],
   "source": [
    "mse_test = model.evaluate(X_test, y_test)"
   ]
  },
  {
   "cell_type": "code",
   "execution_count": 33,
   "metadata": {},
   "outputs": [],
   "source": [
    "from sklearn.metrics import roc_curve,auc\n",
    "from sklearn.metrics import confusion_matrix\n",
    "y_test_hat=model.predict(X_test)"
   ]
  },
  {
   "cell_type": "code",
   "execution_count": 34,
   "metadata": {},
   "outputs": [
    {
     "name": "stdout",
     "output_type": "stream",
     "text": [
      "AUC is: 0.8799793637544054\n"
     ]
    },
    {
     "data": {
      "image/png": "[encoded data removed]",
      "text/plain": [
       "<Figure size 216x216 with 1 Axes>"
      ]
     },
     "metadata": {
      "needs_background": "light"
     },
     "output_type": "display_data"
    }
   ],
   "source": [
    "fpr,tpr,threshold = roc_curve(y_test, y_test_hat,drop_intermediate =True)\n",
    "roc_auc = auc(fpr,tpr)\n",
    "print(\"AUC is:\",roc_auc)\n",
    "plt.figure(figsize=(3,3))\n",
    "plt.plot(fpr, tpr, color='darkorange',lw=2, label='ROC curve (area = %0.2f)' % roc_auc) #假正率为横坐标，真正率为纵坐标做曲线\n",
    "plt.plot([0, 1], [0, 1], color='navy', lw=2, linestyle='--')\n",
    "plt.xlim([-0.01, 1.0])\n",
    "plt.ylim([0.0, 1.05])\n",
    "plt.xlabel('False Positive Rate')\n",
    "plt.ylabel('True Positive Rate')\n",
    "plt.title('Receiver operating characteristic ROC特征曲线')\n",
    "plt.legend(loc=\"lower right\")\n",
    "plt.show()"
   ]
  },
  {
   "cell_type": "code",
   "execution_count": 35,
   "metadata": {},
   "outputs": [
    {
     "data": {
      "text/plain": [
       "Text(32.0, 0.5, 'True label')"
      ]
     },
     "execution_count": 35,
     "metadata": {},
     "output_type": "execute_result"
    },
    {
     "data": {
      "image/png": "[encoded data removed]",
      "text/plain": [
       "<Figure size 432x288 with 2 Axes>"
      ]
     },
     "metadata": {
      "needs_background": "light"
     },
     "output_type": "display_data"
    }
   ],
   "source": [
    "import seaborn as sns\n",
    "fig,ax=plt.subplots()\n",
    "y_test_hat=(y_test_hat >0.5).astype(int)\n",
    "\n",
    "cm = confusion_matrix(y_test, y_test_hat.ravel())\n",
    "\n",
    "sns.heatmap(cm,annot=True,ax=ax,fmt='d') #画热力图\n",
    "ax.set_title('混淆矩阵') #标题\n",
    "ax.set_xlabel('Predict label') #x轴\n",
    "ax.set_ylabel('True label') #y轴"
   ]
  },
  {
   "cell_type": "markdown",
   "metadata": {},
   "source": [
    "# 构建图片分类器"
   ]
  },
  {
   "cell_type": "code",
   "execution_count": 36,
   "metadata": {},
   "outputs": [],
   "source": [
    "import tensorflow as tf\n",
    "from tensorflow import keras"
   ]
  },
  {
   "cell_type": "code",
   "execution_count": 37,
   "metadata": {},
   "outputs": [
    {
     "data": {
      "text/plain": [
       "'2.7.0'"
      ]
     },
     "execution_count": 37,
     "metadata": {},
     "output_type": "execute_result"
    }
   ],
   "source": [
    "tf.__version__"
   ]
  },
  {
   "cell_type": "code",
   "execution_count": 38,
   "metadata": {},
   "outputs": [
    {
     "data": {
      "text/plain": [
       "'2.7.0'"
      ]
     },
     "execution_count": 38,
     "metadata": {},
     "output_type": "execute_result"
    }
   ],
   "source": [
    "keras.__version__"
   ]
  },
  {
   "cell_type": "markdown",
   "metadata": {},
   "source": [
    "Let's start by loading the fashion MNIST dataset. Keras has a number of functions to load popular datasets in `keras.datasets`. The dataset is already split for you between a training set and a test set, but it can be useful to split the training set further to have a validation set:"
   ]
  },
  {
   "cell_type": "code",
   "execution_count": 39,
   "metadata": {},
   "outputs": [],
   "source": [
    "fashion_mnist = keras.datasets.fashion_mnist\n",
    "(X_train_full, y_train_full), (X_test, y_test) = fashion_mnist.load_data()"
   ]
  },
  {
   "cell_type": "markdown",
   "metadata": {},
   "source": [
    "The training set contains 60,000 grayscale images, each 28x28 pixels:"
   ]
  },
  {
   "cell_type": "code",
   "execution_count": 40,
   "metadata": {},
   "outputs": [
    {
     "data": {
      "text/plain": [
       "(60000, 28, 28)"
      ]
     },
     "execution_count": 40,
     "metadata": {},
     "output_type": "execute_result"
    }
   ],
   "source": [
    "X_train_full.shape"
   ]
  },
  {
   "cell_type": "markdown",
   "metadata": {},
   "source": [
    "Each pixel intensity is represented as a byte (0 to 255):"
   ]
  },
  {
   "cell_type": "code",
   "execution_count": 41,
   "metadata": {},
   "outputs": [
    {
     "data": {
      "text/plain": [
       "dtype('uint8')"
      ]
     },
     "execution_count": 41,
     "metadata": {},
     "output_type": "execute_result"
    }
   ],
   "source": [
    "X_train_full.dtype"
   ]
  },
  {
   "cell_type": "markdown",
   "metadata": {},
   "source": [
    "Let's split the full training set into a validation set(5000 samples) and a (smaller) training set. We also scale the pixel intensities down to the 0-1 range and convert them to floats, by dividing by 255."
   ]
  },
  {
   "cell_type": "code",
   "execution_count": 42,
   "metadata": {},
   "outputs": [],
   "source": [
    "X_valid, X_train = X_train_full[:5000] / 255., X_train_full[5000:] / 255.\n",
    "y_valid, y_train = y_train_full[:5000], y_train_full[5000:]\n",
    "X_test = X_test / 255."
   ]
  },
  {
   "cell_type": "code",
   "execution_count": 43,
   "metadata": {},
   "outputs": [
    {
     "data": {
      "text/plain": [
       "array([0, 1, 2, 3, 4, 5, 6, 7, 8, 9], dtype=uint8)"
      ]
     },
     "execution_count": 43,
     "metadata": {},
     "output_type": "execute_result"
    }
   ],
   "source": [
    "np.unique(y_valid)"
   ]
  },
  {
   "cell_type": "markdown",
   "metadata": {},
   "source": [
    "You can plot an image using Matplotlib's `imshow()` function, with a `'binary'`\n",
    " color map:"
   ]
  },
  {
   "cell_type": "code",
   "execution_count": 44,
   "metadata": {},
   "outputs": [
    {
     "data": {
      "image/png": "[encoded data removed]",
      "text/plain": [
       "<Figure size 144x288 with 1 Axes>"
      ]
     },
     "metadata": {
      "needs_background": "light"
     },
     "output_type": "display_data"
    }
   ],
   "source": [
    "plt.figure(figsize=(2,4))\n",
    "plt.imshow(X_train[0], cmap=\"binary\")\n",
    "plt.axis('off')\n",
    "plt.show()"
   ]
  },
  {
   "cell_type": "markdown",
   "metadata": {},
   "source": [
    "The labels are the class IDs (represented as uint8), from 0 to 9:"
   ]
  },
  {
   "cell_type": "code",
   "execution_count": 45,
   "metadata": {},
   "outputs": [
    {
     "data": {
      "text/plain": [
       "(55000,)"
      ]
     },
     "execution_count": 45,
     "metadata": {},
     "output_type": "execute_result"
    }
   ],
   "source": [
    "y_train.shape"
   ]
  },
  {
   "cell_type": "markdown",
   "metadata": {},
   "source": [
    "Here are the corresponding class names:"
   ]
  },
  {
   "cell_type": "code",
   "execution_count": 46,
   "metadata": {},
   "outputs": [],
   "source": [
    "class_names = [\"T-shirt/top\", \"Trouser\", \"Pullover\", \"Dress\", \"Coat\",\n",
    "               \"Sandal\", \"Shirt\", \"Sneaker\", \"Bag\", \"Ankle boot\"]"
   ]
  },
  {
   "cell_type": "markdown",
   "metadata": {},
   "source": [
    "So the first image in the training set is a coat:"
   ]
  },
  {
   "cell_type": "code",
   "execution_count": 47,
   "metadata": {},
   "outputs": [
    {
     "data": {
      "text/plain": [
       "'Coat'"
      ]
     },
     "execution_count": 47,
     "metadata": {},
     "output_type": "execute_result"
    }
   ],
   "source": [
    "class_names[y_train[0]]"
   ]
  },
  {
   "cell_type": "markdown",
   "metadata": {},
   "source": [
    "The validation set contains 5,000 images, and the test set contains 10,000 images:"
   ]
  },
  {
   "cell_type": "code",
   "execution_count": 48,
   "metadata": {},
   "outputs": [
    {
     "data": {
      "text/plain": [
       "(5000, 28, 28)"
      ]
     },
     "execution_count": 48,
     "metadata": {},
     "output_type": "execute_result"
    }
   ],
   "source": [
    "X_valid.shape"
   ]
  },
  {
   "cell_type": "code",
   "execution_count": 49,
   "metadata": {},
   "outputs": [
    {
     "data": {
      "text/plain": [
       "(10000, 28, 28)"
      ]
     },
     "execution_count": 49,
     "metadata": {},
     "output_type": "execute_result"
    }
   ],
   "source": [
    "X_test.shape"
   ]
  },
  {
   "cell_type": "markdown",
   "metadata": {},
   "source": [
    "Let's take a look at a sample of the images in the dataset:"
   ]
  },
  {
   "cell_type": "code",
   "execution_count": 50,
   "metadata": {},
   "outputs": [
    {
     "name": "stdout",
     "output_type": "stream",
     "text": [
      "保存图片 fashion_mnist_plot\n"
     ]
    },
    {
     "data": {
      "image/png": "[encoded data removed]",
      "text/plain": [
       "<Figure size 864x345.6 with 40 Axes>"
      ]
     },
     "metadata": {
      "needs_background": "light"
     },
     "output_type": "display_data"
    }
   ],
   "source": [
    "n_rows = 4\n",
    "n_cols = 10\n",
    "plt.figure(figsize=(n_cols * 1.2, n_rows * 1.2))\n",
    "for row in range(n_rows):\n",
    "    for col in range(n_cols):\n",
    "        index = n_cols * row + col\n",
    "        plt.subplot(n_rows, n_cols, index + 1)\n",
    "        plt.imshow(X_train[index], cmap=\"binary\", interpolation=\"nearest\")\n",
    "        plt.axis('off')\n",
    "        plt.title(class_names[y_train[index]], fontsize=12)\n",
    "plt.subplots_adjust(wspace=0.2, hspace=0.5)\n",
    "save_fig('fashion_mnist_plot', tight_layout=False)\n",
    "plt.show()"
   ]
  },
  {
   "cell_type": "code",
   "execution_count": 51,
   "metadata": {},
   "outputs": [],
   "source": [
    "keras.backend.clear_session()\n",
    "np.random.seed(42)\n",
    "tf.random.set_seed(42)"
   ]
  },
  {
   "cell_type": "code",
   "execution_count": 52,
   "metadata": {},
   "outputs": [],
   "source": [
    "model = keras.models.Sequential([\n",
    "    keras.layers.Flatten(input_shape=[28, 28]),\n",
    "    keras.layers.Dense(300, activation=\"relu\"),\n",
    "    keras.layers.Dense(100, activation=\"relu\"),\n",
    "    keras.layers.Dense(10, activation=\"softmax\")\n",
    "])"
   ]
  },
  {
   "cell_type": "code",
   "execution_count": 53,
   "metadata": {},
   "outputs": [
    {
     "data": {
      "text/plain": [
       "[<keras.layers.core.flatten.Flatten at 0x2206d8f6b88>,\n",
       " <keras.layers.core.dense.Dense at 0x2207e190ec8>,\n",
       " <keras.layers.core.dense.Dense at 0x2207e190a08>,\n",
       " <keras.layers.core.dense.Dense at 0x2207e19f548>]"
      ]
     },
     "execution_count": 53,
     "metadata": {},
     "output_type": "execute_result"
    }
   ],
   "source": [
    "model.layers"
   ]
  },
  {
   "cell_type": "code",
   "execution_count": 54,
   "metadata": {},
   "outputs": [
    {
     "name": "stdout",
     "output_type": "stream",
     "text": [
      "Model: \"sequential\"\n",
      "_________________________________________________________________\n",
      " Layer (type)                Output Shape              Param #   \n",
      "=================================================================\n",
      " flatten (Flatten)           (None, 784)               0         \n",
      "                                                                 \n",
      " dense (Dense)               (None, 300)               235500    \n",
      "                                                                 \n",
      " dense_1 (Dense)             (None, 100)               30100     \n",
      "                                                                 \n",
      " dense_2 (Dense)             (None, 10)                1010      \n",
      "                                                                 \n",
      "=================================================================\n",
      "Total params: 266,610\n",
      "Trainable params: 266,610\n",
      "Non-trainable params: 0\n",
      "_________________________________________________________________\n"
     ]
    }
   ],
   "source": [
    "model.summary()"
   ]
  },
  {
   "cell_type": "code",
   "execution_count": 55,
   "metadata": {},
   "outputs": [
    {
     "data": {
      "image/png": "[encoded data removed]",
      "text/plain": [
       "<IPython.core.display.Image object>"
      ]
     },
     "execution_count": 55,
     "metadata": {},
     "output_type": "execute_result"
    }
   ],
   "source": [
    "keras.utils.plot_model(model, \"my_mnist_model.png\", show_shapes=True)"
   ]
  },
  {
   "cell_type": "code",
   "execution_count": 56,
   "metadata": {},
   "outputs": [
    {
     "data": {
      "text/plain": [
       "'dense'"
      ]
     },
     "execution_count": 56,
     "metadata": {},
     "output_type": "execute_result"
    }
   ],
   "source": [
    "hidden1 = model.layers[1]\n",
    "hidden1.name"
   ]
  },
  {
   "cell_type": "code",
   "execution_count": 57,
   "metadata": {},
   "outputs": [
    {
     "data": {
      "text/plain": [
       "True"
      ]
     },
     "execution_count": 57,
     "metadata": {},
     "output_type": "execute_result"
    }
   ],
   "source": [
    "model.get_layer(hidden1.name) is hidden1"
   ]
  },
  {
   "cell_type": "code",
   "execution_count": 58,
   "metadata": {},
   "outputs": [],
   "source": [
    "weights, biases = hidden1.get_weights()"
   ]
  },
  {
   "cell_type": "code",
   "execution_count": 59,
   "metadata": {},
   "outputs": [
    {
     "data": {
      "text/plain": [
       "(784, 300)"
      ]
     },
     "execution_count": 59,
     "metadata": {},
     "output_type": "execute_result"
    }
   ],
   "source": [
    "weights.shape"
   ]
  },
  {
   "cell_type": "code",
   "execution_count": 60,
   "metadata": {},
   "outputs": [
    {
     "data": {
      "text/plain": [
       "array([[ 0.02448617, -0.00877795, -0.02189048, ..., -0.02766046,\n",
       "         0.03859074, -0.06889391],\n",
       "       [ 0.00476504, -0.03105379, -0.0586676 , ...,  0.00602964,\n",
       "        -0.02763776, -0.04165364],\n",
       "       [-0.06189284, -0.06901957,  0.07102345, ..., -0.04238207,\n",
       "         0.07121518, -0.07331658],\n",
       "       ...,\n",
       "       [-0.03048757,  0.02155137, -0.05400612, ..., -0.00113463,\n",
       "         0.00228987,  0.05581069],\n",
       "       [ 0.07061854, -0.06960931,  0.07038955, ..., -0.00384101,\n",
       "         0.00034875,  0.02878492],\n",
       "       [-0.06022581,  0.01577859, -0.02585464, ..., -0.00527829,\n",
       "         0.00272203, -0.06793761]], dtype=float32)"
      ]
     },
     "execution_count": 60,
     "metadata": {},
     "output_type": "execute_result"
    }
   ],
   "source": [
    "weights"
   ]
  },
  {
   "cell_type": "code",
   "execution_count": 61,
   "metadata": {},
   "outputs": [
    {
     "data": {
      "text/plain": [
       "array([0., 0., 0., 0., 0., 0., 0., 0., 0., 0., 0., 0., 0., 0., 0., 0., 0.,\n",
       "       0., 0., 0., 0., 0., 0., 0., 0., 0., 0., 0., 0., 0., 0., 0., 0., 0.,\n",
       "       0., 0., 0., 0., 0., 0., 0., 0., 0., 0., 0., 0., 0., 0., 0., 0., 0.,\n",
       "       0., 0., 0., 0., 0., 0., 0., 0., 0., 0., 0., 0., 0., 0., 0., 0., 0.,\n",
       "       0., 0., 0., 0., 0., 0., 0., 0., 0., 0., 0., 0., 0., 0., 0., 0., 0.,\n",
       "       0., 0., 0., 0., 0., 0., 0., 0., 0., 0., 0., 0., 0., 0., 0., 0., 0.,\n",
       "       0., 0., 0., 0., 0., 0., 0., 0., 0., 0., 0., 0., 0., 0., 0., 0., 0.,\n",
       "       0., 0., 0., 0., 0., 0., 0., 0., 0., 0., 0., 0., 0., 0., 0., 0., 0.,\n",
       "       0., 0., 0., 0., 0., 0., 0., 0., 0., 0., 0., 0., 0., 0., 0., 0., 0.,\n",
       "       0., 0., 0., 0., 0., 0., 0., 0., 0., 0., 0., 0., 0., 0., 0., 0., 0.,\n",
       "       0., 0., 0., 0., 0., 0., 0., 0., 0., 0., 0., 0., 0., 0., 0., 0., 0.,\n",
       "       0., 0., 0., 0., 0., 0., 0., 0., 0., 0., 0., 0., 0., 0., 0., 0., 0.,\n",
       "       0., 0., 0., 0., 0., 0., 0., 0., 0., 0., 0., 0., 0., 0., 0., 0., 0.,\n",
       "       0., 0., 0., 0., 0., 0., 0., 0., 0., 0., 0., 0., 0., 0., 0., 0., 0.,\n",
       "       0., 0., 0., 0., 0., 0., 0., 0., 0., 0., 0., 0., 0., 0., 0., 0., 0.,\n",
       "       0., 0., 0., 0., 0., 0., 0., 0., 0., 0., 0., 0., 0., 0., 0., 0., 0.,\n",
       "       0., 0., 0., 0., 0., 0., 0., 0., 0., 0., 0., 0., 0., 0., 0., 0., 0.,\n",
       "       0., 0., 0., 0., 0., 0., 0., 0., 0., 0., 0.], dtype=float32)"
      ]
     },
     "execution_count": 61,
     "metadata": {},
     "output_type": "execute_result"
    }
   ],
   "source": [
    "biases"
   ]
  },
  {
   "cell_type": "code",
   "execution_count": 62,
   "metadata": {},
   "outputs": [
    {
     "data": {
      "text/plain": [
       "(300,)"
      ]
     },
     "execution_count": 62,
     "metadata": {},
     "output_type": "execute_result"
    }
   ],
   "source": [
    "biases.shape"
   ]
  },
  {
   "cell_type": "code",
   "execution_count": 63,
   "metadata": {},
   "outputs": [],
   "source": [
    "model.compile(loss=\"sparse_categorical_crossentropy\",\n",
    "              optimizer=\"sgd\",\n",
    "              metrics=[\"accuracy\"])"
   ]
  },
  {
   "cell_type": "markdown",
   "metadata": {},
   "source": [
    "This is equivalent to:"
   ]
  },
  {
   "cell_type": "markdown",
   "metadata": {},
   "source": [
    "```python\n",
    "model.compile(loss=keras.losses.sparse_categorical_crossentropy,\n",
    "              optimizer=keras.optimizers.SGD(),\n",
    "              metrics=[keras.metrics.sparse_categorical_accuracy])\n",
    "```"
   ]
  },
  {
   "cell_type": "code",
   "execution_count": 64,
   "metadata": {},
   "outputs": [
    {
     "name": "stdout",
     "output_type": "stream",
     "text": [
      "Epoch 1/30\n",
      "WARNING:tensorflow:AutoGraph could not transform <function Model.make_train_function.<locals>.train_function at 0x000002206C608798> and will run it as-is.\n",
      "Please report this to the TensorFlow team. When filing the bug, set the verbosity to 10 (on Linux, `export AUTOGRAPH_VERBOSITY=10`) and attach the full output.\n",
      "Cause: 'arguments' object has no attribute 'posonlyargs'\n",
      "To silence this warning, decorate the function with @tf.autograph.experimental.do_not_convert\n",
      "WARNING: AutoGraph could not transform <function Model.make_train_function.<locals>.train_function at 0x000002206C608798> and will run it as-is.\n",
      "Please report this to the TensorFlow team. When filing the bug, set the verbosity to 10 (on Linux, `export AUTOGRAPH_VERBOSITY=10`) and attach the full output.\n",
      "Cause: 'arguments' object has no attribute 'posonlyargs'\n",
      "To silence this warning, decorate the function with @tf.autograph.experimental.do_not_convert\n",
      "1697/1719 [============================>.] - ETA: 0s - loss: 0.7266 - accuracy: 0.7635WARNING:tensorflow:AutoGraph could not transform <function Model.make_test_function.<locals>.test_function at 0x000002207E1C8E58> and will run it as-is.\n",
      "Please report this to the TensorFlow team. When filing the bug, set the verbosity to 10 (on Linux, `export AUTOGRAPH_VERBOSITY=10`) and attach the full output.\n",
      "Cause: 'arguments' object has no attribute 'posonlyargs'\n",
      "To silence this warning, decorate the function with @tf.autograph.experimental.do_not_convert\n",
      "WARNING: AutoGraph could not transform <function Model.make_test_function.<locals>.test_function at 0x000002207E1C8E58> and will run it as-is.\n",
      "Please report this to the TensorFlow team. When filing the bug, set the verbosity to 10 (on Linux, `export AUTOGRAPH_VERBOSITY=10`) and attach the full output.\n",
      "Cause: 'arguments' object has no attribute 'posonlyargs'\n",
      "To silence this warning, decorate the function with @tf.autograph.experimental.do_not_convert\n",
      "1719/1719 [==============================] - 4s 2ms/step - loss: 0.7237 - accuracy: 0.7643 - val_loss: 0.5213 - val_accuracy: 0.8226\n",
      "Epoch 2/30\n",
      "1719/1719 [==============================] - 4s 2ms/step - loss: 0.4842 - accuracy: 0.8316 - val_loss: 0.4349 - val_accuracy: 0.8528\n",
      "Epoch 3/30\n",
      "1719/1719 [==============================] - 4s 2ms/step - loss: 0.4391 - accuracy: 0.8456 - val_loss: 0.5281 - val_accuracy: 0.8008\n",
      "Epoch 4/30\n",
      "1719/1719 [==============================] - 4s 2ms/step - loss: 0.4123 - accuracy: 0.8566 - val_loss: 0.3920 - val_accuracy: 0.8646\n",
      "Epoch 5/30\n",
      "1719/1719 [==============================] - 4s 2ms/step - loss: 0.3939 - accuracy: 0.8619 - val_loss: 0.3746 - val_accuracy: 0.8684\n",
      "Epoch 6/30\n",
      "1719/1719 [==============================] - 4s 2ms/step - loss: 0.3752 - accuracy: 0.8677 - val_loss: 0.3719 - val_accuracy: 0.8722\n",
      "Epoch 7/30\n",
      "1719/1719 [==============================] - 4s 2ms/step - loss: 0.3632 - accuracy: 0.8715 - val_loss: 0.3612 - val_accuracy: 0.8720\n",
      "Epoch 8/30\n",
      "1719/1719 [==============================] - 4s 2ms/step - loss: 0.3516 - accuracy: 0.8751 - val_loss: 0.3842 - val_accuracy: 0.8610\n",
      "Epoch 9/30\n",
      "1719/1719 [==============================] - 4s 2ms/step - loss: 0.3413 - accuracy: 0.8788 - val_loss: 0.3573 - val_accuracy: 0.8716\n",
      "Epoch 10/30\n",
      "1719/1719 [==============================] - 4s 2ms/step - loss: 0.3318 - accuracy: 0.8825 - val_loss: 0.3420 - val_accuracy: 0.8790\n",
      "Epoch 11/30\n",
      "1719/1719 [==============================] - 4s 2ms/step - loss: 0.3239 - accuracy: 0.8840 - val_loss: 0.3446 - val_accuracy: 0.8778\n",
      "Epoch 12/30\n",
      "1719/1719 [==============================] - 4s 2ms/step - loss: 0.3147 - accuracy: 0.8866 - val_loss: 0.3312 - val_accuracy: 0.8822\n",
      "Epoch 13/30\n",
      "1719/1719 [==============================] - 4s 2ms/step - loss: 0.3079 - accuracy: 0.8888 - val_loss: 0.3266 - val_accuracy: 0.8880\n",
      "Epoch 14/30\n",
      "1719/1719 [==============================] - 4s 2ms/step - loss: 0.3018 - accuracy: 0.8919 - val_loss: 0.3405 - val_accuracy: 0.8780\n",
      "Epoch 15/30\n",
      "1719/1719 [==============================] - 4s 2ms/step - loss: 0.2944 - accuracy: 0.8942 - val_loss: 0.3217 - val_accuracy: 0.8846\n",
      "Epoch 16/30\n",
      "1719/1719 [==============================] - 4s 2ms/step - loss: 0.2888 - accuracy: 0.8973 - val_loss: 0.3100 - val_accuracy: 0.8896\n",
      "Epoch 17/30\n",
      "1719/1719 [==============================] - 4s 2ms/step - loss: 0.2837 - accuracy: 0.8975 - val_loss: 0.3565 - val_accuracy: 0.8726\n",
      "Epoch 18/30\n",
      "1719/1719 [==============================] - 4s 2ms/step - loss: 0.2777 - accuracy: 0.9002 - val_loss: 0.3141 - val_accuracy: 0.8900\n",
      "Epoch 19/30\n",
      "1719/1719 [==============================] - 4s 2ms/step - loss: 0.2726 - accuracy: 0.9020 - val_loss: 0.3120 - val_accuracy: 0.8906\n",
      "Epoch 20/30\n",
      "1719/1719 [==============================] - 4s 2ms/step - loss: 0.2672 - accuracy: 0.9040 - val_loss: 0.3251 - val_accuracy: 0.8824\n",
      "Epoch 21/30\n",
      "1719/1719 [==============================] - 4s 2ms/step - loss: 0.2622 - accuracy: 0.9060 - val_loss: 0.3057 - val_accuracy: 0.8926\n",
      "Epoch 22/30\n",
      "1719/1719 [==============================] - 4s 2ms/step - loss: 0.2576 - accuracy: 0.9073 - val_loss: 0.2963 - val_accuracy: 0.8964\n",
      "Epoch 23/30\n",
      "1719/1719 [==============================] - 4s 2ms/step - loss: 0.2535 - accuracy: 0.9081 - val_loss: 0.2985 - val_accuracy: 0.8934\n",
      "Epoch 24/30\n",
      "1719/1719 [==============================] - 4s 2ms/step - loss: 0.2482 - accuracy: 0.9105 - val_loss: 0.3091 - val_accuracy: 0.8880\n",
      "Epoch 25/30\n",
      "1719/1719 [==============================] - 4s 2ms/step - loss: 0.2442 - accuracy: 0.9126 - val_loss: 0.2968 - val_accuracy: 0.8950\n",
      "Epoch 26/30\n",
      "1719/1719 [==============================] - 4s 2ms/step - loss: 0.2405 - accuracy: 0.9141 - val_loss: 0.3077 - val_accuracy: 0.8880\n",
      "Epoch 27/30\n",
      "1719/1719 [==============================] - 4s 2ms/step - loss: 0.2361 - accuracy: 0.9159 - val_loss: 0.3043 - val_accuracy: 0.8950\n",
      "Epoch 28/30\n",
      "1719/1719 [==============================] - 4s 2ms/step - loss: 0.2327 - accuracy: 0.9166 - val_loss: 0.2994 - val_accuracy: 0.8944\n",
      "Epoch 29/30\n",
      "1719/1719 [==============================] - 4s 2ms/step - loss: 0.2283 - accuracy: 0.9184 - val_loss: 0.3067 - val_accuracy: 0.8908\n",
      "Epoch 30/30\n",
      "1719/1719 [==============================] - 4s 2ms/step - loss: 0.2250 - accuracy: 0.9190 - val_loss: 0.3032 - val_accuracy: 0.8934\n"
     ]
    }
   ],
   "source": [
    "history = model.fit(X_train, y_train, epochs=30,\n",
    "                    validation_data=(X_valid, y_valid))"
   ]
  },
  {
   "cell_type": "code",
   "execution_count": 65,
   "metadata": {},
   "outputs": [
    {
     "data": {
      "text/plain": [
       "{'verbose': 1, 'epochs': 30, 'steps': 1719}"
      ]
     },
     "execution_count": 65,
     "metadata": {},
     "output_type": "execute_result"
    }
   ],
   "source": [
    "history.params"
   ]
  },
  {
   "cell_type": "code",
   "execution_count": 66,
   "metadata": {},
   "outputs": [
    {
     "name": "stdout",
     "output_type": "stream",
     "text": [
      "[0, 1, 2, 3, 4, 5, 6, 7, 8, 9, 10, 11, 12, 13, 14, 15, 16, 17, 18, 19, 20, 21, 22, 23, 24, 25, 26, 27, 28, 29]\n"
     ]
    }
   ],
   "source": [
    "print(history.epoch)"
   ]
  },
  {
   "cell_type": "code",
   "execution_count": 67,
   "metadata": {},
   "outputs": [
    {
     "data": {
      "text/plain": [
       "dict_keys(['loss', 'accuracy', 'val_loss', 'val_accuracy'])"
      ]
     },
     "execution_count": 67,
     "metadata": {},
     "output_type": "execute_result"
    }
   ],
   "source": [
    "history.history.keys()"
   ]
  },
  {
   "cell_type": "code",
   "execution_count": 68,
   "metadata": {},
   "outputs": [
    {
     "data": {
      "text/plain": [
       "(30,)"
      ]
     },
     "execution_count": 68,
     "metadata": {},
     "output_type": "execute_result"
    }
   ],
   "source": [
    "np.array(history.history['loss']).shape"
   ]
  },
  {
   "cell_type": "code",
   "execution_count": 69,
   "metadata": {},
   "outputs": [
    {
     "name": "stdout",
     "output_type": "stream",
     "text": [
      "保存图片 keras_learning_curves_plot\n"
     ]
    },
    {
     "data": {
      "image/png": "[encoded data removed]",
      "text/plain": [
       "<Figure size 576x360 with 1 Axes>"
      ]
     },
     "metadata": {
      "needs_background": "light"
     },
     "output_type": "display_data"
    }
   ],
   "source": [
    "import pandas as pd\n",
    "\n",
    "pd.DataFrame(history.history).plot(figsize=(8, 5))\n",
    "plt.grid(True)\n",
    "plt.gca().set_ylim(0, 1)\n",
    "save_fig(\"keras_learning_curves_plot\")\n",
    "plt.title(\"Keras的学习曲线\")\n",
    "plt.show()"
   ]
  },
  {
   "cell_type": "code",
   "execution_count": 70,
   "metadata": {},
   "outputs": [
    {
     "name": "stdout",
     "output_type": "stream",
     "text": [
      "313/313 [==============================] - 1s 2ms/step - loss: 0.3363 - accuracy: 0.8826\n"
     ]
    },
    {
     "data": {
      "text/plain": [
       "[0.3363315761089325, 0.8826000094413757]"
      ]
     },
     "execution_count": 70,
     "metadata": {},
     "output_type": "execute_result"
    }
   ],
   "source": [
    "model.evaluate(X_test, y_test)"
   ]
  },
  {
   "cell_type": "code",
   "execution_count": 71,
   "metadata": {},
   "outputs": [
    {
     "name": "stdout",
     "output_type": "stream",
     "text": [
      "WARNING:tensorflow:AutoGraph could not transform <function Model.make_predict_function.<locals>.predict_function at 0x000002206D14CB88> and will run it as-is.\n",
      "Please report this to the TensorFlow team. When filing the bug, set the verbosity to 10 (on Linux, `export AUTOGRAPH_VERBOSITY=10`) and attach the full output.\n",
      "Cause: 'arguments' object has no attribute 'posonlyargs'\n",
      "To silence this warning, decorate the function with @tf.autograph.experimental.do_not_convert\n",
      "WARNING: AutoGraph could not transform <function Model.make_predict_function.<locals>.predict_function at 0x000002206D14CB88> and will run it as-is.\n",
      "Please report this to the TensorFlow team. When filing the bug, set the verbosity to 10 (on Linux, `export AUTOGRAPH_VERBOSITY=10`) and attach the full output.\n",
      "Cause: 'arguments' object has no attribute 'posonlyargs'\n",
      "To silence this warning, decorate the function with @tf.autograph.experimental.do_not_convert\n"
     ]
    },
    {
     "data": {
      "text/plain": [
       "array([[0.  , 0.  , 0.  , 0.  , 0.  , 0.01, 0.  , 0.03, 0.  , 0.96],\n",
       "       [0.  , 0.  , 0.99, 0.  , 0.01, 0.  , 0.  , 0.  , 0.  , 0.  ],\n",
       "       [0.  , 1.  , 0.  , 0.  , 0.  , 0.  , 0.  , 0.  , 0.  , 0.  ]],\n",
       "      dtype=float32)"
      ]
     },
     "execution_count": 71,
     "metadata": {},
     "output_type": "execute_result"
    }
   ],
   "source": [
    "X_new = X_test[:3]\n",
    "y_proba = model.predict(X_new)\n",
    "y_proba.round(2)\n"
   ]
  },
  {
   "cell_type": "code",
   "execution_count": 72,
   "metadata": {},
   "outputs": [
    {
     "data": {
      "text/plain": [
       "array([9, 2, 1], dtype=int64)"
      ]
     },
     "execution_count": 72,
     "metadata": {},
     "output_type": "execute_result"
    }
   ],
   "source": [
    "#y_pred = model.predict_classes(X_new)\n",
    "y_pred = np.argmax(model.predict(X_new), axis=-1)\n",
    "y_pred"
   ]
  },
  {
   "cell_type": "code",
   "execution_count": 73,
   "metadata": {},
   "outputs": [
    {
     "data": {
      "text/plain": [
       "array(['Ankle boot', 'Pullover', 'Trouser'], dtype='<U11')"
      ]
     },
     "execution_count": 73,
     "metadata": {},
     "output_type": "execute_result"
    }
   ],
   "source": [
    "np.array(class_names)[y_pred]"
   ]
  },
  {
   "cell_type": "code",
   "execution_count": 74,
   "metadata": {},
   "outputs": [
    {
     "data": {
      "text/plain": [
       "array([9, 2, 1], dtype=uint8)"
      ]
     },
     "execution_count": 74,
     "metadata": {},
     "output_type": "execute_result"
    }
   ],
   "source": [
    "y_new = y_test[:3]\n",
    "y_new"
   ]
  },
  {
   "cell_type": "code",
   "execution_count": 75,
   "metadata": {},
   "outputs": [
    {
     "name": "stdout",
     "output_type": "stream",
     "text": [
      "保存图片 fashion_mnist_images_plot\n"
     ]
    },
    {
     "data": {
      "image/png": "[encoded data removed]",
      "text/plain": [
       "<Figure size 518.4x172.8 with 3 Axes>"
      ]
     },
     "metadata": {
      "needs_background": "light"
     },
     "output_type": "display_data"
    }
   ],
   "source": [
    "plt.figure(figsize=(7.2, 2.4))\n",
    "for index, image in enumerate(X_new):\n",
    "    plt.subplot(1, 3, index + 1)\n",
    "    plt.imshow(image, cmap=\"binary\", interpolation=\"nearest\")\n",
    "    plt.axis('off')\n",
    "    plt.title(class_names[y_test[index]], fontsize=12)\n",
    "plt.subplots_adjust(wspace=0.2, hspace=0.5)\n",
    "save_fig('fashion_mnist_images_plot', tight_layout=False)\n",
    "plt.show()"
   ]
  },
  {
   "cell_type": "markdown",
   "metadata": {},
   "source": [
    "# TensorBoard"
   ]
  },
  {
   "cell_type": "markdown",
   "metadata": {},
   "source": [
    "To start the TensorBoard server, one option is to open a terminal, if needed activate the virtualenv where you installed TensorBoard, go to this notebook's directory, then type:\n",
    "\n",
    "```bash\n",
    "$ tensorboard --logdir=./my_logs --port=6006\n",
    "```\n",
    "\n",
    "You can then open your web browser to [localhost:6006](http://localhost:6006) and use TensorBoard. Once you are done, press Ctrl-C in the terminal window, this will shutdown the TensorBoard server.\n",
    "\n",
    "Alternatively, you can load TensorBoard's Jupyter extension and run it like this:"
   ]
  },
  {
   "cell_type": "code",
   "execution_count": 84,
   "metadata": {},
   "outputs": [
    {
     "name": "stdout",
     "output_type": "stream",
     "text": [
      "The tensorboard extension is already loaded. To reload it, use:\n",
      "  %reload_ext tensorboard\n"
     ]
    },
    {
     "data": {
      "text/html": [
       "\n",
       "      <iframe id=\"tensorboard-frame-12271597c67abb8f\" width=\"100%\" height=\"800\" frameborder=\"0\">\n",
       "      </iframe>\n",
       "      <script>\n",
       "        (function() {\n",
       "          const frame = document.getElementById(\"tensorboard-frame-12271597c67abb8f\");\n",
       "          const url = new URL(\"/\", window.location);\n",
       "          const port = 6006;\n",
       "          if (port) {\n",
       "            url.port = port;\n",
       "          }\n",
       "          frame.src = url;\n",
       "        })();\n",
       "      </script>\n",
       "    "
      ],
      "text/plain": [
       "<IPython.core.display.HTML object>"
      ]
     },
     "metadata": {},
     "output_type": "display_data"
    }
   ],
   "source": [
    "%load_ext tensorboard\n",
    "%tensorboard --logdir=C:\\\\Users\\\\ThinkPad\\\\Desktop\\\\AI\\\\DM_DL\\\\my_logs \n",
    "# --port=6006"
   ]
  },
  {
   "cell_type": "code",
   "execution_count": null,
   "metadata": {},
   "outputs": [],
   "source": []
  }
 ],
 "metadata": {
  "kernelspec": {
   "display_name": "Python 3",
   "language": "python",
   "name": "python3"
  },
  "language_info": {
   "codemirror_mode": {
    "name": "ipython",
    "version": 3
   },
   "file_extension": ".py",
   "mimetype": "text/x-python",
   "name": "python",
   "nbconvert_exporter": "python",
   "pygments_lexer": "ipython3",
   "version": "3.7.7"
  },
  "nav_menu": {
   "height": "264px",
   "width": "369px"
  },
  "toc": {
   "navigate_menu": true,
   "number_sections": true,
   "sideBar": true,
   "threshold": 6,
   "toc_cell": false,
   "toc_section_display": "block",
   "toc_window_display": false
  }
 },
 "nbformat": 4,
 "nbformat_minor": 4
}
