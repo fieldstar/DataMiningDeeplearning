{
 "cells": [
  {
   "cell_type": "markdown",
   "metadata": {},
   "source": [
    "# 公司产品下期价格预测"
   ]
  },
  {
   "cell_type": "markdown",
   "metadata": {},
   "source": [
    "* 学号：\n",
    "* 姓名："
   ]
  },
  {
   "cell_type": "markdown",
   "metadata": {},
   "source": [
    "## 一 导入Python库"
   ]
  },
  {
   "cell_type": "code",
   "execution_count": 1,
   "metadata": {},
   "outputs": [],
   "source": [
    "import numpy as np  # numpy:数据处理库\n",
    "import pandas as pd # pandas :数据分析库\n",
    "from sklearn.model_selection import train_test_split  # sklearn:机器学习库\n",
    "import matplotlib.pyplot as plt # matplotlib：数据可视化库\n",
    "from sklearn.linear_model import LinearRegression\n",
    "import warnings   # 发出警告,或者忽略它或引发异常。\n",
    "warnings.filterwarnings('ignore')\n",
    "plt.rcParams['font.sans-serif'] = ['simhei']\n",
    "from sklearn import metrics"
   ]
  },
  {
   "cell_type": "markdown",
   "metadata": {},
   "source": [
    "## 二 获取数据"
   ]
  },
  {
   "cell_type": "code",
   "execution_count": 2,
   "metadata": {},
   "outputs": [],
   "source": [
    "file_name = 'data/价格数据.csv'\n",
    "df = pd.read_csv(file_name)"
   ]
  },
  {
   "cell_type": "code",
   "execution_count": 3,
   "metadata": {},
   "outputs": [
    {
     "data": {
      "text/html": [
       "<div>\n",
       "<style scoped>\n",
       "    .dataframe tbody tr th:only-of-type {\n",
       "        vertical-align: middle;\n",
       "    }\n",
       "\n",
       "    .dataframe tbody tr th {\n",
       "        vertical-align: top;\n",
       "    }\n",
       "\n",
       "    .dataframe thead th {\n",
       "        text-align: right;\n",
       "    }\n",
       "</style>\n",
       "<table border=\"1\" class=\"dataframe\">\n",
       "  <thead>\n",
       "    <tr style=\"text-align: right;\">\n",
       "      <th></th>\n",
       "      <th>日期</th>\n",
       "      <th>公司销售价格</th>\n",
       "      <th>国内市场价格</th>\n",
       "      <th>下游钢材产量</th>\n",
       "      <th>下游钢材价格</th>\n",
       "    </tr>\n",
       "  </thead>\n",
       "  <tbody>\n",
       "    <tr>\n",
       "      <th>0</th>\n",
       "      <td>2015-01-31</td>\n",
       "      <td>498.580269</td>\n",
       "      <td>570.00</td>\n",
       "      <td>8291.6</td>\n",
       "      <td>2550</td>\n",
       "    </tr>\n",
       "    <tr>\n",
       "      <th>1</th>\n",
       "      <td>2015-02-28</td>\n",
       "      <td>492.396414</td>\n",
       "      <td>630.00</td>\n",
       "      <td>8240.2</td>\n",
       "      <td>2503</td>\n",
       "    </tr>\n",
       "    <tr>\n",
       "      <th>2</th>\n",
       "      <td>2015-03-31</td>\n",
       "      <td>491.533390</td>\n",
       "      <td>513.23</td>\n",
       "      <td>10510.1</td>\n",
       "      <td>2462</td>\n",
       "    </tr>\n",
       "    <tr>\n",
       "      <th>3</th>\n",
       "      <td>2015-04-30</td>\n",
       "      <td>445.604796</td>\n",
       "      <td>620.00</td>\n",
       "      <td>10409.5</td>\n",
       "      <td>2423</td>\n",
       "    </tr>\n",
       "    <tr>\n",
       "      <th>4</th>\n",
       "      <td>2015-05-31</td>\n",
       "      <td>449.923229</td>\n",
       "      <td>590.00</td>\n",
       "      <td>11766.2</td>\n",
       "      <td>2383</td>\n",
       "    </tr>\n",
       "  </tbody>\n",
       "</table>\n",
       "</div>"
      ],
      "text/plain": [
       "           日期      公司销售价格  国内市场价格   下游钢材产量  下游钢材价格\n",
       "0  2015-01-31  498.580269  570.00   8291.6    2550\n",
       "1  2015-02-28  492.396414  630.00   8240.2    2503\n",
       "2  2015-03-31  491.533390  513.23  10510.1    2462\n",
       "3  2015-04-30  445.604796  620.00  10409.5    2423\n",
       "4  2015-05-31  449.923229  590.00  11766.2    2383"
      ]
     },
     "execution_count": 3,
     "metadata": {},
     "output_type": "execute_result"
    }
   ],
   "source": [
    "df.head() #查看数据"
   ]
  },
  {
   "cell_type": "code",
   "execution_count": 4,
   "metadata": {},
   "outputs": [
    {
     "data": {
      "text/html": [
       "<div>\n",
       "<style scoped>\n",
       "    .dataframe tbody tr th:only-of-type {\n",
       "        vertical-align: middle;\n",
       "    }\n",
       "\n",
       "    .dataframe tbody tr th {\n",
       "        vertical-align: top;\n",
       "    }\n",
       "\n",
       "    .dataframe thead th {\n",
       "        text-align: right;\n",
       "    }\n",
       "</style>\n",
       "<table border=\"1\" class=\"dataframe\">\n",
       "  <thead>\n",
       "    <tr style=\"text-align: right;\">\n",
       "      <th></th>\n",
       "      <th>公司销售价格</th>\n",
       "      <th>国内市场价格</th>\n",
       "      <th>下游钢材产量</th>\n",
       "      <th>下游钢材价格</th>\n",
       "    </tr>\n",
       "  </thead>\n",
       "  <tbody>\n",
       "    <tr>\n",
       "      <th>count</th>\n",
       "      <td>57.000000</td>\n",
       "      <td>57.000000</td>\n",
       "      <td>57.000000</td>\n",
       "      <td>57.000000</td>\n",
       "    </tr>\n",
       "    <tr>\n",
       "      <th>mean</th>\n",
       "      <td>504.355011</td>\n",
       "      <td>519.749649</td>\n",
       "      <td>9609.338596</td>\n",
       "      <td>3055.438596</td>\n",
       "    </tr>\n",
       "    <tr>\n",
       "      <th>std</th>\n",
       "      <td>94.277418</td>\n",
       "      <td>87.346652</td>\n",
       "      <td>2225.055692</td>\n",
       "      <td>786.449141</td>\n",
       "    </tr>\n",
       "    <tr>\n",
       "      <th>min</th>\n",
       "      <td>333.880932</td>\n",
       "      <td>305.000000</td>\n",
       "      <td>6465.900000</td>\n",
       "      <td>1628.000000</td>\n",
       "    </tr>\n",
       "    <tr>\n",
       "      <th>25%</th>\n",
       "      <td>429.518495</td>\n",
       "      <td>485.000000</td>\n",
       "      <td>7399.600000</td>\n",
       "      <td>2383.000000</td>\n",
       "    </tr>\n",
       "    <tr>\n",
       "      <th>50%</th>\n",
       "      <td>492.396414</td>\n",
       "      <td>530.000000</td>\n",
       "      <td>10256.700000</td>\n",
       "      <td>3250.000000</td>\n",
       "    </tr>\n",
       "    <tr>\n",
       "      <th>75%</th>\n",
       "      <td>567.038294</td>\n",
       "      <td>575.000000</td>\n",
       "      <td>11753.300000</td>\n",
       "      <td>3760.000000</td>\n",
       "    </tr>\n",
       "    <tr>\n",
       "      <th>max</th>\n",
       "      <td>746.968531</td>\n",
       "      <td>745.000000</td>\n",
       "      <td>13156.400000</td>\n",
       "      <td>4169.000000</td>\n",
       "    </tr>\n",
       "  </tbody>\n",
       "</table>\n",
       "</div>"
      ],
      "text/plain": [
       "           公司销售价格      国内市场价格        下游钢材产量       下游钢材价格\n",
       "count   57.000000   57.000000     57.000000    57.000000\n",
       "mean   504.355011  519.749649   9609.338596  3055.438596\n",
       "std     94.277418   87.346652   2225.055692   786.449141\n",
       "min    333.880932  305.000000   6465.900000  1628.000000\n",
       "25%    429.518495  485.000000   7399.600000  2383.000000\n",
       "50%    492.396414  530.000000  10256.700000  3250.000000\n",
       "75%    567.038294  575.000000  11753.300000  3760.000000\n",
       "max    746.968531  745.000000  13156.400000  4169.000000"
      ]
     },
     "execution_count": 4,
     "metadata": {},
     "output_type": "execute_result"
    }
   ],
   "source": [
    "df.describe() #查看数据统计信息"
   ]
  },
  {
   "cell_type": "markdown",
   "metadata": {},
   "source": [
    "## 三 数据预处理\n",
    "- 常规操作：\n",
    "    - 1 删除空值\n",
    "    - 2 删除重复值"
   ]
  },
  {
   "cell_type": "code",
   "execution_count": 5,
   "metadata": {},
   "outputs": [],
   "source": [
    "# 数据存在空值, 删除空值\n",
    "df = df.dropna()\n",
    "# 删除完全一样的数据，去重\n",
    "df.drop_duplicates(inplace=True)  \n",
    "# inplace :是直接在原来数据上修改还是保留一个副本"
   ]
  },
  {
   "cell_type": "markdown",
   "metadata": {},
   "source": [
    "## 四 拆分数据集\n",
    "- 将数据集拆分为训练集和测试集。\n",
    "    - 训练集：用来建立模型\n",
    "    - 测试集：用来评估模型\n",
    "- 一般训练集和测试集的比例是7:3或者是8:2"
   ]
  },
  {
   "cell_type": "code",
   "execution_count": 6,
   "metadata": {},
   "outputs": [],
   "source": [
    "X = df[['国内市场价格', '下游钢材产量', '下游钢材价格']]\n",
    "y = df['公司销售价格']\n",
    "# 四 拆分数据集，一部分作为训练集，一部分作为测试集\n",
    "X_train, X_test, y_train, y_test = train_test_split(X, y, train_size=0.7, test_size=0.3, random_state=100)"
   ]
  },
  {
   "cell_type": "markdown",
   "metadata": {},
   "source": [
    "## 五 建立模型"
   ]
  },
  {
   "cell_type": "code",
   "execution_count": 7,
   "metadata": {},
   "outputs": [],
   "source": [
    "lr = LinearRegression()"
   ]
  },
  {
   "cell_type": "markdown",
   "metadata": {},
   "source": [
    "## 六 训练模型"
   ]
  },
  {
   "cell_type": "code",
   "execution_count": 8,
   "metadata": {},
   "outputs": [
    {
     "data": {
      "text/plain": [
       "LinearRegression()"
      ]
     },
     "execution_count": 8,
     "metadata": {},
     "output_type": "execute_result"
    }
   ],
   "source": [
    "lr.fit(X_train, y_train)"
   ]
  },
  {
   "cell_type": "code",
   "execution_count": 9,
   "metadata": {},
   "outputs": [
    {
     "name": "stdout",
     "output_type": "stream",
     "text": [
      "回归方程的系数:[ 0.56874811 -0.00509515  0.04085642]\n",
      "回归方程的截距:131.22741613046924\n",
      "回归方程的R平方:0.7244870895538301\n"
     ]
    }
   ],
   "source": [
    "print(f'回归方程的系数:{lr.coef_}')\n",
    "print(f'回归方程的截距:{lr.intercept_}')\n",
    "print(f'回归方程的R平方:{lr.score(X,y)}')"
   ]
  },
  {
   "cell_type": "markdown",
   "metadata": {},
   "source": [
    "## 七 评估模型\n",
    "- 1 计算模型预测测试集的结果与测试集真实数据的均方误差\n",
    "- 2 可视化测试集的真实数据与模型预测的测试集数据"
   ]
  },
  {
   "cell_type": "code",
   "execution_count": 10,
   "metadata": {},
   "outputs": [
    {
     "name": "stdout",
     "output_type": "stream",
     "text": [
      "均方误差MSE: 33.536977107587255\n",
      "决定系数R2: 0.8678824378630822\n"
     ]
    }
   ],
   "source": [
    "y_pred = lr.predict(X_test)\n",
    "mse_value = np.sqrt(metrics.mean_squared_error(y_test, y_pred))\n",
    "print('均方误差MSE:', mse_value)\n",
    "r2_score_value = metrics.r2_score(y_test, y_pred)\n",
    "print('决定系数R2:', r2_score_value)"
   ]
  },
  {
   "cell_type": "markdown",
   "metadata": {},
   "source": [
    "### 测试集：可视化测试集的真实数据与模型预测的测试集数据"
   ]
  },
  {
   "cell_type": "code",
   "execution_count": 11,
   "metadata": {},
   "outputs": [
    {
     "data": {
      "image/png": "[encoded data removed]",
      "text/plain": [
       "<Figure size 648x216 with 1 Axes>"
      ]
     },
     "metadata": {
      "needs_background": "light"
     },
     "output_type": "display_data"
    }
   ],
   "source": [
    "fig, axs = plt.subplots(figsize=(9, 3))\n",
    "plt.plot(range(1, len(y_test) + 1), y_test, 's-', color='orangered', label=\"真实值\", linewidth=2)  # s-:方形\n",
    "plt.plot(range(1, len(y_test) + 1), y_pred, 'o-', color='dodgerblue', label=\"预测值\", linewidth=2)  # o-:圆形\n",
    "plt.ylabel(\"价格\", fontsize=16)  # 纵坐标名字\n",
    "plt.legend(loc=\"best\")  # 图例\n",
    "plt.savefig('images/模拟值与测试值的关系.png')\n",
    "plt.show()"
   ]
  },
  {
   "cell_type": "markdown",
   "metadata": {},
   "source": [
    "## 八 输出模型\n",
    "- 1 输出模型的权重，截距\n",
    "- 2 输出模型方程"
   ]
  },
  {
   "cell_type": "markdown",
   "metadata": {},
   "source": [
    "### 得到$\\beta _{1},\\beta _{2},...\\beta _{k}$"
   ]
  },
  {
   "cell_type": "code",
   "execution_count": 12,
   "metadata": {},
   "outputs": [
    {
     "name": "stdout",
     "output_type": "stream",
     "text": [
      "权重参数： [ 0.56874811 -0.00509515  0.04085642]\n"
     ]
    }
   ],
   "source": [
    "print('权重参数：',lr.coef_)  "
   ]
  },
  {
   "cell_type": "markdown",
   "metadata": {},
   "source": [
    "### $\\beta _{0}$，截距，默认有截距"
   ]
  },
  {
   "cell_type": "code",
   "execution_count": 13,
   "metadata": {},
   "outputs": [
    {
     "name": "stdout",
     "output_type": "stream",
     "text": [
      "截距： 131.22741613046924\n",
      "模型：y= 131.22741613046924 + 0.5687481105869039*国内市场价格 + -0.005095146937998442*下游钢材产量 + 0.04085642176715272*下游钢材价格\n"
     ]
    }
   ],
   "source": [
    "print('截距：',lr.intercept_ )\n",
    "f = str(lr.intercept_) + ' + ' + str(lr.coef_[0]) + '*国内市场价格' + ' + ' + str(lr.coef_[1]) + '*下游钢材产量' + ' + ' + str(\n",
    "    lr.coef_[2]) + '*下游钢材价格'\n",
    "print('模型：y=', f)"
   ]
  },
  {
   "cell_type": "markdown",
   "metadata": {},
   "source": [
    "### 九 模型预测下期价格数据，并保存预测结果\n",
    "### 获取下期因素数据"
   ]
  },
  {
   "cell_type": "code",
   "execution_count": 14,
   "metadata": {},
   "outputs": [],
   "source": [
    "df_next = pd.read_csv('data/价格预测数据下期因素数据.csv')\n",
    "# 模型预测下期价格数据\n",
    "price_next = lr.predict(df_next[['国内市场价格', '下游钢材产量', '下游钢材价格']].values)\n",
    "# 保存预测结果\n",
    "df_next['预测值'] = price_next\n",
    "df_next.to_csv('data/价格预测数据结果.csv',  index=False, encoding='utf-8-sig')"
   ]
  },
  {
   "cell_type": "code",
   "execution_count": null,
   "metadata": {},
   "outputs": [],
   "source": []
  }
 ],
 "metadata": {
  "kernelspec": {
   "display_name": "Python 3",
   "language": "python",
   "name": "python3"
  },
  "language_info": {
   "codemirror_mode": {
    "name": "ipython",
    "version": 3
   },
   "file_extension": ".py",
   "mimetype": "text/x-python",
   "name": "python",
   "nbconvert_exporter": "python",
   "pygments_lexer": "ipython3",
   "version": "3.7.7"
  }
 },
 "nbformat": 4,
 "nbformat_minor": 4
}
