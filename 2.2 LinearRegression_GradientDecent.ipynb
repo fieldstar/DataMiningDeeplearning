{
 "cells": [
  {
   "cell_type": "code",
   "execution_count": 1,
   "metadata": {},
   "outputs": [],
   "source": [
    "import numpy as np\n",
    "import matplotlib.pyplot as plt\n"
   ]
  },
  {
   "cell_type": "markdown",
   "metadata": {},
   "source": [
    "## 1.导入数据"
   ]
  },
  {
   "cell_type": "code",
   "execution_count": 2,
   "metadata": {},
   "outputs": [
    {
     "data": {
      "image/png": "[encoded data removed]",
      "text/plain": [
       "<Figure size 432x288 with 1 Axes>"
      ]
     },
     "metadata": {
      "needs_background": "light"
     },
     "output_type": "display_data"
    }
   ],
   "source": [
    "points = np.genfromtxt(\"data/lr_data.txt\",delimiter=\"\\t\")\n",
    "#points\n",
    "#提取points中的两列数据，分别作为x,y\n",
    "x=points[:,0];\n",
    "y=points[:,1];\n",
    "\n",
    "#用plt画出散点图\n",
    "plt.scatter(x,y)\n",
    "plt.show()"
   ]
  },
  {
   "cell_type": "markdown",
   "metadata": {},
   "source": [
    "## 2.定义损失函数"
   ]
  },
  {
   "cell_type": "code",
   "execution_count": 3,
   "metadata": {},
   "outputs": [],
   "source": [
    "# 损失函数是系数的函数，另外还要传入数据的x,y\n",
    "def compute_cost(w,b,points):\n",
    "    total_cost=0\n",
    "    M =len(points)\n",
    "    for i in range(M):\n",
    "        x=points[i,0]\n",
    "        y=points[i,1]\n",
    "        total_cost += (y-w*x-b)**2\n",
    "    return total_cost/M #一除都是浮点 两个除号是地板除，整型。 如 3 // 4"
   ]
  },
  {
   "cell_type": "markdown",
   "metadata": {},
   "source": [
    "## 3.定义模型的超参数"
   ]
  },
  {
   "cell_type": "code",
   "execution_count": 4,
   "metadata": {},
   "outputs": [],
   "source": [
    "alpha = 0.02\n",
    "initial_w = 1\n",
    "initial_b = 0\n",
    "num_iter =2000"
   ]
  },
  {
   "cell_type": "markdown",
   "metadata": {},
   "source": [
    "## 4.定义核心梯度下降算法函数"
   ]
  },
  {
   "cell_type": "code",
   "execution_count": 5,
   "metadata": {},
   "outputs": [],
   "source": [
    "def grad_desc(points,initial_w,initial_b,alpha,num_iter):\n",
    "    w = initial_w\n",
    "    b = initial_b\n",
    "    # 定义一个list保存所有的损失函数值，用来显示下降过程。\n",
    "    cost_list=[]\n",
    "    for i in range(num_iter):\n",
    "        cost_list.append(compute_cost(w,b,points))\n",
    "        w,b= step_grad_desc(w,b,alpha,points)\n",
    "    return [w,b,cost_list]\n",
    "\n",
    "def step_grad_desc(current_w,current_b,alpha,points):\n",
    "    sum_grad_w=0\n",
    "    sum_grad_b=0\n",
    "    M=len(points)\n",
    "    #对每个点代入公式求和\n",
    "    for i in range(M):\n",
    "        x= points[i,0]\n",
    "        y= points[i,1]\n",
    "        sum_grad_w += (current_w * x +current_b -y) *x\n",
    "        sum_grad_b +=  current_w * x +current_b -y\n",
    "    #用公式求当前梯度\n",
    "    grad_w=2/M * sum_grad_w\n",
    "    grad_b=2/M * sum_grad_b\n",
    "    \n",
    "    #梯度下降，更新当前的w和b\n",
    "    updated_w = current_w- alpha * grad_w\n",
    "    updated_b = current_b -alpha * grad_b\n",
    "    return updated_w,updated_b"
   ]
  },
  {
   "cell_type": "markdown",
   "metadata": {},
   "source": [
    "## 5.测试，运行梯度下降算法"
   ]
  },
  {
   "cell_type": "code",
   "execution_count": 6,
   "metadata": {},
   "outputs": [
    {
     "name": "stdout",
     "output_type": "stream",
     "text": [
      "w is : 0.2981619373045971\n",
      "b is : 0.43727598190867334\n",
      "cost is: 0.007668299726891766\n"
     ]
    },
    {
     "data": {
      "text/plain": [
       "[<matplotlib.lines.Line2D at 0x17d8f33cfc8>]"
      ]
     },
     "execution_count": 6,
     "metadata": {},
     "output_type": "execute_result"
    },
    {
     "data": {
      "image/png": "[encoded data removed]",
      "text/plain": [
       "<Figure size 432x288 with 1 Axes>"
      ]
     },
     "metadata": {
      "needs_background": "light"
     },
     "output_type": "display_data"
    }
   ],
   "source": [
    "w,b,cost_list= grad_desc(points,initial_w,initial_b,alpha,num_iter)\n",
    "print (\"w is :\",w)\n",
    "print (\"b is :\",b)\n",
    "\n",
    "cost = compute_cost(w,b,points)\n",
    "\n",
    "#print(\"cost_list:\",cost_list)\n",
    "print(\"cost is:\",cost)\n",
    "plt.plot(cost_list)"
   ]
  },
  {
   "cell_type": "code",
   "execution_count": 38,
   "metadata": {},
   "outputs": [
    {
     "data": {
      "text/plain": [
       "[<matplotlib.lines.Line2D at 0x17d91e1a648>]"
      ]
     },
     "execution_count": 38,
     "metadata": {},
     "output_type": "execute_result"
    },
    {
     "data": {
      "image/png": "[encoded data removed]",
      "text/plain": [
       "<Figure size 432x288 with 1 Axes>"
      ]
     },
     "metadata": {
      "needs_background": "light"
     },
     "output_type": "display_data"
    }
   ],
   "source": [
    "plt.scatter(x,y,marker=\"x\")\n",
    "\n",
    "pred_y= w*x+b\n",
    "\n",
    "plt.plot(x,pred_y,c='r')"
   ]
  },
  {
   "cell_type": "code",
   "execution_count": 35,
   "metadata": {},
   "outputs": [
    {
     "data": {
      "text/plain": [
       "array([0.43909829, 0.44204591, 0.44499352, 0.44794114, 0.45088876,\n",
       "       0.45383637, 0.45678399, 0.4597316 , 0.46267922, 0.46562684,\n",
       "       0.46857445, 0.47152207, 0.47446969, 0.4774173 , 0.48036492,\n",
       "       0.48331254, 0.48626015, 0.48920777, 0.49215539, 0.495103  ,\n",
       "       0.49805062, 0.50099823, 0.50394585, 0.50689347, 0.50984108,\n",
       "       0.5127887 , 0.51573632, 0.51868393, 0.52163155, 0.52457917,\n",
       "       0.52752678, 0.5304744 , 0.53342202, 0.53636963, 0.53931725,\n",
       "       0.54226487, 0.54521248, 0.5481601 , 0.55110771, 0.55405533,\n",
       "       0.55700295, 0.55995056, 0.56289818, 0.5658458 , 0.56879341,\n",
       "       0.57174103, 0.57468865, 0.57763626, 0.58058388, 0.5835315 ,\n",
       "       0.58647911, 0.58942673, 0.59237434, 0.59532196, 0.59826958,\n",
       "       0.60121719, 0.60416481, 0.60711243, 0.61006004, 0.61300766,\n",
       "       0.61595528, 0.61890289, 0.62185051, 0.62479813, 0.62774574,\n",
       "       0.63069336, 0.63364098, 0.63658859, 0.63953621, 0.64248382,\n",
       "       0.64543144, 0.64837906, 0.65132667, 0.65427429, 0.65722191,\n",
       "       0.66016952, 0.66311714, 0.66606476, 0.66901237, 0.67195999,\n",
       "       0.67490761, 0.67785522, 0.68080284, 0.68375045, 0.68669807,\n",
       "       0.68964569, 0.6925933 , 0.69554092, 0.69848854, 0.70143615,\n",
       "       0.70438377, 0.70733139, 0.710279  , 0.71322662, 0.71617424,\n",
       "       0.71912185, 0.72206947, 0.72501708, 0.7279647 , 0.73091232,\n",
       "       0.73385993])"
      ]
     },
     "execution_count": 35,
     "metadata": {},
     "output_type": "execute_result"
    }
   ],
   "source": [
    "from sklearn.linear_model import LinearRegression\n",
    "lin_reg=LinearRegression()\n",
    "lin_reg.fit(x.reshape(-1,1),y)\n",
    "lin_reg.intercept_,lin_reg.coef_\n",
    "\n",
    "y_hat=lin_reg.predict(x.reshape(-1,1))\n",
    "y_hat"
   ]
  },
  {
   "cell_type": "code",
   "execution_count": 37,
   "metadata": {},
   "outputs": [
    {
     "data": {
      "text/plain": [
       "[<matplotlib.lines.Line2D at 0x17d91db2148>]"
      ]
     },
     "execution_count": 37,
     "metadata": {},
     "output_type": "execute_result"
    },
    {
     "data": {
      "image/png": "[encoded data removed]",
      "text/plain": [
       "<Figure size 432x288 with 1 Axes>"
      ]
     },
     "metadata": {
      "needs_background": "light"
     },
     "output_type": "display_data"
    }
   ],
   "source": [
    "plt.scatter(x,y,marker=\"x\") \n",
    "plt.plot(x,y_hat,c='r')"
   ]
  },
  {
   "cell_type": "markdown",
   "metadata": {},
   "source": [
    "## 用矩阵公式"
   ]
  },
  {
   "cell_type": "code",
   "execution_count": 53,
   "metadata": {},
   "outputs": [
    {
     "data": {
      "text/plain": [
       "array([0.8, 9.6])"
      ]
     },
     "execution_count": 53,
     "metadata": {},
     "output_type": "execute_result"
    }
   ],
   "source": [
    "import numpy as np\n",
    "X=np.array([1,2,3,4,5])\n",
    "Y=np.array([10,12,11,14,13])\n",
    "X_b=np.c_[X,np.ones((5,1))]\n",
    "X_b\n",
    "\n",
    "W_best=np.linalg.inv(X_b.T.dot(X_b)).dot(X_b.T).dot(Y)\n",
    "W_best"
   ]
  },
  {
   "cell_type": "code",
   "execution_count": 54,
   "metadata": {},
   "outputs": [
    {
     "data": {
      "text/plain": [
       "array([10.4, 11.2, 12. , 12.8, 13.6])"
      ]
     },
     "execution_count": 54,
     "metadata": {},
     "output_type": "execute_result"
    }
   ],
   "source": [
    "y_pred=X_b.dot(W_best)\n",
    "y_pred"
   ]
  },
  {
   "cell_type": "code",
   "execution_count": 55,
   "metadata": {},
   "outputs": [
    {
     "data": {
      "text/plain": [
       "[<matplotlib.lines.Line2D at 0x17d91e8e4c8>]"
      ]
     },
     "execution_count": 55,
     "metadata": {},
     "output_type": "execute_result"
    },
    {
     "data": {
      "image/png": "[encoded data removed]",
      "text/plain": [
       "<Figure size 432x288 with 1 Axes>"
      ]
     },
     "metadata": {
      "needs_background": "light"
     },
     "output_type": "display_data"
    }
   ],
   "source": [
    "import matplotlib.pyplot as plt\n",
    "%matplotlib inline\n",
    "plt.plot(X,Y,'rx')\n",
    "plt.plot(X,y_pred)"
   ]
  },
  {
   "cell_type": "markdown",
   "metadata": {},
   "source": [
    "## 用sklearn的函数包"
   ]
  },
  {
   "cell_type": "code",
   "execution_count": 56,
   "metadata": {},
   "outputs": [
    {
     "data": {
      "text/plain": [
       "array([10.4, 11.2, 12. , 12.8, 13.6])"
      ]
     },
     "execution_count": 56,
     "metadata": {},
     "output_type": "execute_result"
    }
   ],
   "source": [
    "from sklearn.linear_model import LinearRegression\n",
    "lin_reg=LinearRegression()\n",
    "lin_reg.fit(X.reshape(5,1),Y)\n",
    "\n",
    "lin_reg.intercept_,lin_reg.coef_\n",
    "\n",
    "y_hat=lin_reg.predict(X.reshape(5,1))\n",
    "\n",
    "y_hat"
   ]
  },
  {
   "cell_type": "code",
   "execution_count": 57,
   "metadata": {},
   "outputs": [
    {
     "data": {
      "text/plain": [
       "array([0.8, 9.6])"
      ]
     },
     "execution_count": 57,
     "metadata": {},
     "output_type": "execute_result"
    }
   ],
   "source": [
    "best_svd,residuals,rank,s=np.linalg.lstsq(X_b,Y,rcond=1e-6)\n",
    "best_svd"
   ]
  },
  {
   "cell_type": "code",
   "execution_count": 58,
   "metadata": {},
   "outputs": [
    {
     "data": {
      "text/plain": [
       "array([0.8, 9.6])"
      ]
     },
     "execution_count": 58,
     "metadata": {},
     "output_type": "execute_result"
    }
   ],
   "source": [
    "best_svd=np.linalg.pinv(X_b).dot(Y)\n",
    "best_svd"
   ]
  },
  {
   "cell_type": "code",
   "execution_count": null,
   "metadata": {},
   "outputs": [],
   "source": []
  }
 ],
 "metadata": {
  "kernelspec": {
   "display_name": "Python 3",
   "language": "python",
   "name": "python3"
  },
  "language_info": {
   "codemirror_mode": {
    "name": "ipython",
    "version": 3
   },
   "file_extension": ".py",
   "mimetype": "text/x-python",
   "name": "python",
   "nbconvert_exporter": "python",
   "pygments_lexer": "ipython3",
   "version": "3.7.7"
  }
 },
 "nbformat": 4,
 "nbformat_minor": 4
}
